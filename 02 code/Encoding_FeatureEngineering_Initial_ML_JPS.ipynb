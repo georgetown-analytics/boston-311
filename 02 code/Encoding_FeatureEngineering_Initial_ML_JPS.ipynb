{
 "cells": [
  {
   "cell_type": "markdown",
   "id": "7d7a9868-aabe-4a2f-9a89-31c2fc687bda",
   "metadata": {},
   "source": [
    "# Model Evaluation, Cross-Validation, and Hyperparameter Tuning "
   ]
  },
  {
   "cell_type": "markdown",
   "id": "0872f13b-a850-4b77-92df-eede04eb4c61",
   "metadata": {},
   "source": [
    "This file explores the initial performance of several machine learning models and conducts additional tests to improve model predictions. "
   ]
  },
  {
   "cell_type": "code",
   "execution_count": 53,
   "id": "24f1f294-833e-4e73-b025-6e64e9bf6e26",
   "metadata": {},
   "outputs": [],
   "source": [
    "import warnings # ignore those warnings!\n",
    "\n",
    "# general use packages\n",
    "import matplotlib.pyplot as plt # visualization\n",
    "from datetime import date # ensure out date column is indeed a data column\n",
    "import seaborn as sns # more viz\n",
    "import numpy as np # basic munging\n",
    "import pandas as pd # data management\n",
    "\n",
    "# model packages\n",
    "from sklearn.linear_model import LogisticRegression\n",
    "from sklearn.naive_bayes import GaussianNB\n",
    "from sklearn.ensemble import AdaBoostClassifier\n",
    "from sklearn.ensemble import BaggingClassifier\n",
    "from sklearn.ensemble import GradientBoostingClassifier\n",
    "from sklearn.ensemble import RandomForestClassifier\n",
    "from xgboost import XGBClassifier\n",
    "from sklearn.neighbors import KNeighborsClassifier\n",
    "from sklearn.tree import DecisionTreeClassifier\n",
    "from sklearn.preprocessing import LabelEncoder\n",
    "from sklearn.utils import resample\n",
    "from sklearn.metrics import roc_auc_score,precision_recall_curve,roc_curve\n",
    "from sklearn.model_selection import train_test_split\n",
    "from sklearn.model_selection import TimeSeriesSplit\n",
    "\n",
    "\n",
    "\n",
    "# model assessment\n",
    "from sklearn.inspection import permutation_importance\n",
    "from sklearn.metrics import f1_score\n",
    "from sklearn.metrics import precision_score\n",
    "from sklearn.metrics import recall_score\n",
    "from sklearn.metrics import precision_recall_fscore_support\n",
    "from yellowbrick.classifier import ClassPredictionError\n",
    "from yellowbrick.classifier import ClassificationReport\n",
    "from yellowbrick.classifier import ConfusionMatrix\n",
    "\n",
    "warnings.filterwarnings('ignore')\n",
    "\n",
    "# %run Boston_311_Master_Merger.ipynb\n",
    "\n",
    "master = pd.read_csv(\"~/Documents/Georgetown SCS/capstone/boston-311/01 data/master.csv\")"
   ]
  },
  {
   "cell_type": "markdown",
   "id": "d75fb8f2-24ef-46d9-b937-8a445778d105",
   "metadata": {},
   "source": [
    "## Encoding\n",
    "\n",
    "We're going to try two different encoding approaches:\n",
    "1. One-hot encoding for our main string features of interest (source of 311 call and reason for 311 call) to widen our data frame and turn each string into its own 0/1 column\n",
    "2. Ordinal encoding of string variables, which will keep our feature space the same, but ensure we are only dealing with numeric data"
   ]
  },
  {
   "cell_type": "code",
   "execution_count": 4,
   "id": "067817d7-d5fd-42f3-9517-e0aca3eb5119",
   "metadata": {},
   "outputs": [
    {
     "name": "stdout",
     "output_type": "stream",
     "text": [
      "<class 'pandas.core.frame.DataFrame'>\n",
      "RangeIndex: 1864760 entries, 0 to 1864759\n",
      "Data columns (total 12 columns):\n",
      " #   Column           Dtype  \n",
      "---  ------           -----  \n",
      " 0   case_enquiry_id  int64  \n",
      " 1   date             object \n",
      " 2   ontime           object \n",
      " 3   case_status      object \n",
      " 4   subject          object \n",
      " 5   reason           object \n",
      " 6   avgprcp          float64\n",
      " 7   Total_P1         float64\n",
      " 8   GEOID20          float64\n",
      " 9   ucr_one          float64\n",
      " 10  ucr_two          float64\n",
      " 11  total_ucr        float64\n",
      "dtypes: float64(6), int64(1), object(5)\n",
      "memory usage: 170.7+ MB\n"
     ]
    }
   ],
   "source": [
    "master.info(verbose = True)"
   ]
  },
  {
   "cell_type": "code",
   "execution_count": 54,
   "id": "48263f21-230e-4efd-9ead-c77529a939a3",
   "metadata": {},
   "outputs": [
    {
     "data": {
      "text/plain": [
       "case_enquiry_id         0\n",
       "date                    0\n",
       "ontime                128\n",
       "case_status             0\n",
       "subject                 0\n",
       "reason                  0\n",
       "avgprcp            272537\n",
       "Total_P1               79\n",
       "GEOID20                79\n",
       "ucr_one                79\n",
       "ucr_two                79\n",
       "total_ucr              79\n",
       "dtype: int64"
      ]
     },
     "execution_count": 54,
     "metadata": {},
     "output_type": "execute_result"
    }
   ],
   "source": [
    "master.isna().sum()"
   ]
  },
  {
   "cell_type": "code",
   "execution_count": null,
   "id": "074c66b9-c71e-4c80-a8e9-66e36c4cb98d",
   "metadata": {},
   "outputs": [
    {
     "ename": "KeyboardInterrupt",
     "evalue": "",
     "output_type": "error",
     "traceback": [
      "\u001b[0;31m---------------------------------------------------------------------------\u001b[0m",
      "\u001b[0;31mKeyboardInterrupt\u001b[0m                         Traceback (most recent call last)",
      "\u001b[0;32m/var/folders/5m/kgrgm7ns0q10f7dp56dv4ylm0000gn/T/ipykernel_47483/3714182115.py\u001b[0m in \u001b[0;36m<module>\u001b[0;34m\u001b[0m\n\u001b[1;32m      6\u001b[0m \u001b[0;34m\u001b[0m\u001b[0m\n\u001b[1;32m      7\u001b[0m \u001b[0mimputer\u001b[0m\u001b[0;34m.\u001b[0m\u001b[0mfit\u001b[0m\u001b[0;34m(\u001b[0m\u001b[0mmaster\u001b[0m\u001b[0;34m[\u001b[0m\u001b[0;34m'avgprcp'\u001b[0m\u001b[0;34m]\u001b[0m\u001b[0;34m.\u001b[0m\u001b[0mvalues\u001b[0m\u001b[0;34m.\u001b[0m\u001b[0mreshape\u001b[0m\u001b[0;34m(\u001b[0m\u001b[0;34m-\u001b[0m\u001b[0;36m1\u001b[0m\u001b[0;34m,\u001b[0m \u001b[0;36m1\u001b[0m\u001b[0;34m)\u001b[0m\u001b[0;34m)\u001b[0m\u001b[0;34m\u001b[0m\u001b[0;34m\u001b[0m\u001b[0m\n\u001b[0;32m----> 8\u001b[0;31m \u001b[0mmaster\u001b[0m\u001b[0;34m[\u001b[0m\u001b[0;34m'avgprcp'\u001b[0m\u001b[0;34m]\u001b[0m \u001b[0;34m=\u001b[0m \u001b[0mimputer\u001b[0m\u001b[0;34m.\u001b[0m\u001b[0mtransform\u001b[0m\u001b[0;34m(\u001b[0m\u001b[0mmaster\u001b[0m\u001b[0;34m[\u001b[0m\u001b[0;34m'avgprcp'\u001b[0m\u001b[0;34m]\u001b[0m\u001b[0;34m.\u001b[0m\u001b[0mvalues\u001b[0m\u001b[0;34m.\u001b[0m\u001b[0mreshape\u001b[0m\u001b[0;34m(\u001b[0m\u001b[0;34m-\u001b[0m\u001b[0;36m1\u001b[0m\u001b[0;34m,\u001b[0m \u001b[0;36m1\u001b[0m\u001b[0;34m)\u001b[0m\u001b[0;34m)\u001b[0m\u001b[0;34m\u001b[0m\u001b[0;34m\u001b[0m\u001b[0m\n\u001b[0m",
      "\u001b[0;32m~/opt/anaconda3/lib/python3.9/site-packages/sklearn/impute/_knn.py\u001b[0m in \u001b[0;36mtransform\u001b[0;34m(self, X)\u001b[0m\n\u001b[1;32m    334\u001b[0m             \u001b[0mreduce_func\u001b[0m\u001b[0;34m=\u001b[0m\u001b[0mprocess_chunk\u001b[0m\u001b[0;34m,\u001b[0m\u001b[0;34m\u001b[0m\u001b[0;34m\u001b[0m\u001b[0m\n\u001b[1;32m    335\u001b[0m         )\n\u001b[0;32m--> 336\u001b[0;31m         \u001b[0;32mfor\u001b[0m \u001b[0mchunk\u001b[0m \u001b[0;32min\u001b[0m \u001b[0mgen\u001b[0m\u001b[0;34m:\u001b[0m\u001b[0;34m\u001b[0m\u001b[0;34m\u001b[0m\u001b[0m\n\u001b[0m\u001b[1;32m    337\u001b[0m             \u001b[0;31m# process_chunk modifies X in place. No return value.\u001b[0m\u001b[0;34m\u001b[0m\u001b[0;34m\u001b[0m\u001b[0m\n\u001b[1;32m    338\u001b[0m             \u001b[0;32mpass\u001b[0m\u001b[0;34m\u001b[0m\u001b[0;34m\u001b[0m\u001b[0m\n",
      "\u001b[0;32m~/opt/anaconda3/lib/python3.9/site-packages/sklearn/metrics/pairwise.py\u001b[0m in \u001b[0;36mpairwise_distances_chunked\u001b[0;34m(X, Y, reduce_func, metric, n_jobs, working_memory, **kwds)\u001b[0m\n\u001b[1;32m   1715\u001b[0m         \u001b[0;32melse\u001b[0m\u001b[0;34m:\u001b[0m\u001b[0;34m\u001b[0m\u001b[0;34m\u001b[0m\u001b[0m\n\u001b[1;32m   1716\u001b[0m             \u001b[0mX_chunk\u001b[0m \u001b[0;34m=\u001b[0m \u001b[0mX\u001b[0m\u001b[0;34m[\u001b[0m\u001b[0msl\u001b[0m\u001b[0;34m]\u001b[0m\u001b[0;34m\u001b[0m\u001b[0;34m\u001b[0m\u001b[0m\n\u001b[0;32m-> 1717\u001b[0;31m         \u001b[0mD_chunk\u001b[0m \u001b[0;34m=\u001b[0m \u001b[0mpairwise_distances\u001b[0m\u001b[0;34m(\u001b[0m\u001b[0mX_chunk\u001b[0m\u001b[0;34m,\u001b[0m \u001b[0mY\u001b[0m\u001b[0;34m,\u001b[0m \u001b[0mmetric\u001b[0m\u001b[0;34m=\u001b[0m\u001b[0mmetric\u001b[0m\u001b[0;34m,\u001b[0m \u001b[0mn_jobs\u001b[0m\u001b[0;34m=\u001b[0m\u001b[0mn_jobs\u001b[0m\u001b[0;34m,\u001b[0m \u001b[0;34m**\u001b[0m\u001b[0mkwds\u001b[0m\u001b[0;34m)\u001b[0m\u001b[0;34m\u001b[0m\u001b[0;34m\u001b[0m\u001b[0m\n\u001b[0m\u001b[1;32m   1718\u001b[0m         if (X is Y or Y is None) and PAIRWISE_DISTANCE_FUNCTIONS.get(\n\u001b[1;32m   1719\u001b[0m             \u001b[0mmetric\u001b[0m\u001b[0;34m,\u001b[0m \u001b[0;32mNone\u001b[0m\u001b[0;34m\u001b[0m\u001b[0;34m\u001b[0m\u001b[0m\n",
      "\u001b[0;32m~/opt/anaconda3/lib/python3.9/site-packages/sklearn/metrics/pairwise.py\u001b[0m in \u001b[0;36mpairwise_distances\u001b[0;34m(X, Y, metric, n_jobs, force_all_finite, **kwds)\u001b[0m\n\u001b[1;32m   1887\u001b[0m         \u001b[0mfunc\u001b[0m \u001b[0;34m=\u001b[0m \u001b[0mpartial\u001b[0m\u001b[0;34m(\u001b[0m\u001b[0mdistance\u001b[0m\u001b[0;34m.\u001b[0m\u001b[0mcdist\u001b[0m\u001b[0;34m,\u001b[0m \u001b[0mmetric\u001b[0m\u001b[0;34m=\u001b[0m\u001b[0mmetric\u001b[0m\u001b[0;34m,\u001b[0m \u001b[0;34m**\u001b[0m\u001b[0mkwds\u001b[0m\u001b[0;34m)\u001b[0m\u001b[0;34m\u001b[0m\u001b[0;34m\u001b[0m\u001b[0m\n\u001b[1;32m   1888\u001b[0m \u001b[0;34m\u001b[0m\u001b[0m\n\u001b[0;32m-> 1889\u001b[0;31m     \u001b[0;32mreturn\u001b[0m \u001b[0m_parallel_pairwise\u001b[0m\u001b[0;34m(\u001b[0m\u001b[0mX\u001b[0m\u001b[0;34m,\u001b[0m \u001b[0mY\u001b[0m\u001b[0;34m,\u001b[0m \u001b[0mfunc\u001b[0m\u001b[0;34m,\u001b[0m \u001b[0mn_jobs\u001b[0m\u001b[0;34m,\u001b[0m \u001b[0;34m**\u001b[0m\u001b[0mkwds\u001b[0m\u001b[0;34m)\u001b[0m\u001b[0;34m\u001b[0m\u001b[0;34m\u001b[0m\u001b[0m\n\u001b[0m\u001b[1;32m   1890\u001b[0m \u001b[0;34m\u001b[0m\u001b[0m\n\u001b[1;32m   1891\u001b[0m \u001b[0;34m\u001b[0m\u001b[0m\n",
      "\u001b[0;32m~/opt/anaconda3/lib/python3.9/site-packages/sklearn/metrics/pairwise.py\u001b[0m in \u001b[0;36m_parallel_pairwise\u001b[0;34m(X, Y, func, n_jobs, **kwds)\u001b[0m\n\u001b[1;32m   1428\u001b[0m \u001b[0;34m\u001b[0m\u001b[0m\n\u001b[1;32m   1429\u001b[0m     \u001b[0;32mif\u001b[0m \u001b[0meffective_n_jobs\u001b[0m\u001b[0;34m(\u001b[0m\u001b[0mn_jobs\u001b[0m\u001b[0;34m)\u001b[0m \u001b[0;34m==\u001b[0m \u001b[0;36m1\u001b[0m\u001b[0;34m:\u001b[0m\u001b[0;34m\u001b[0m\u001b[0;34m\u001b[0m\u001b[0m\n\u001b[0;32m-> 1430\u001b[0;31m         \u001b[0;32mreturn\u001b[0m \u001b[0mfunc\u001b[0m\u001b[0;34m(\u001b[0m\u001b[0mX\u001b[0m\u001b[0;34m,\u001b[0m \u001b[0mY\u001b[0m\u001b[0;34m,\u001b[0m \u001b[0;34m**\u001b[0m\u001b[0mkwds\u001b[0m\u001b[0;34m)\u001b[0m\u001b[0;34m\u001b[0m\u001b[0;34m\u001b[0m\u001b[0m\n\u001b[0m\u001b[1;32m   1431\u001b[0m \u001b[0;34m\u001b[0m\u001b[0m\n\u001b[1;32m   1432\u001b[0m     \u001b[0;31m# enforce a threading backend to prevent data communication overhead\u001b[0m\u001b[0;34m\u001b[0m\u001b[0;34m\u001b[0m\u001b[0m\n",
      "\u001b[0;32m~/opt/anaconda3/lib/python3.9/site-packages/sklearn/metrics/pairwise.py\u001b[0m in \u001b[0;36mnan_euclidean_distances\u001b[0;34m(X, Y, squared, missing_values, copy)\u001b[0m\n\u001b[1;32m    487\u001b[0m     \u001b[0mpresent_Y\u001b[0m \u001b[0;34m=\u001b[0m \u001b[0mpresent_X\u001b[0m \u001b[0;32mif\u001b[0m \u001b[0mY\u001b[0m \u001b[0;32mis\u001b[0m \u001b[0mX\u001b[0m \u001b[0;32melse\u001b[0m \u001b[0;34m~\u001b[0m\u001b[0mmissing_Y\u001b[0m\u001b[0;34m\u001b[0m\u001b[0;34m\u001b[0m\u001b[0m\n\u001b[1;32m    488\u001b[0m     \u001b[0mpresent_count\u001b[0m \u001b[0;34m=\u001b[0m \u001b[0mnp\u001b[0m\u001b[0;34m.\u001b[0m\u001b[0mdot\u001b[0m\u001b[0;34m(\u001b[0m\u001b[0mpresent_X\u001b[0m\u001b[0;34m,\u001b[0m \u001b[0mpresent_Y\u001b[0m\u001b[0;34m.\u001b[0m\u001b[0mT\u001b[0m\u001b[0;34m)\u001b[0m\u001b[0;34m\u001b[0m\u001b[0;34m\u001b[0m\u001b[0m\n\u001b[0;32m--> 489\u001b[0;31m     \u001b[0mdistances\u001b[0m\u001b[0;34m[\u001b[0m\u001b[0mpresent_count\u001b[0m \u001b[0;34m==\u001b[0m \u001b[0;36m0\u001b[0m\u001b[0;34m]\u001b[0m \u001b[0;34m=\u001b[0m \u001b[0mnp\u001b[0m\u001b[0;34m.\u001b[0m\u001b[0mnan\u001b[0m\u001b[0;34m\u001b[0m\u001b[0;34m\u001b[0m\u001b[0m\n\u001b[0m\u001b[1;32m    490\u001b[0m     \u001b[0;31m# avoid divide by zero\u001b[0m\u001b[0;34m\u001b[0m\u001b[0;34m\u001b[0m\u001b[0m\n\u001b[1;32m    491\u001b[0m     \u001b[0mnp\u001b[0m\u001b[0;34m.\u001b[0m\u001b[0mmaximum\u001b[0m\u001b[0;34m(\u001b[0m\u001b[0;36m1\u001b[0m\u001b[0;34m,\u001b[0m \u001b[0mpresent_count\u001b[0m\u001b[0;34m,\u001b[0m \u001b[0mout\u001b[0m\u001b[0;34m=\u001b[0m\u001b[0mpresent_count\u001b[0m\u001b[0;34m)\u001b[0m\u001b[0;34m\u001b[0m\u001b[0;34m\u001b[0m\u001b[0m\n",
      "\u001b[0;31mKeyboardInterrupt\u001b[0m: "
     ]
    }
   ],
   "source": [
    "# we have a lot of missing rainfall values, let's impute them\n",
    "\n",
    "from sklearn.impute import KNNImputer\n",
    "\n",
    "imputer = KNNImputer(n_neighbors=2, weights=\"uniform\")\n",
    "\n",
    "imputer.fit(master['avgprcp'].values.reshape(-1, 1))\n",
    "master['avgprcp'] = imputer.transform(master['avgprcp'].values.reshape(-1, 1))"
   ]
  },
  {
   "cell_type": "code",
   "execution_count": null,
   "id": "6356a470-b4d0-4fe5-a654-6c2139cb0570",
   "metadata": {},
   "outputs": [],
   "source": [
    "master.isna().sum()"
   ]
  },
  {
   "cell_type": "code",
   "execution_count": 5,
   "id": "06e09285-8d45-4a0e-a01b-827f589b6767",
   "metadata": {},
   "outputs": [],
   "source": [
    "# let's split out our date columns\n",
    "\n",
    "# first ensure our date column is indeed a date column\n",
    "master['date'] = pd.to_datetime(master['date'])\n",
    "\n",
    "# Breakout day, month, and year from the date field\n",
    "master['day'] = master['date'].dt.day\n",
    "master['month'] = master['date'].dt.month\n",
    "master['year'] = master['date'].dt.year\n",
    "\n",
    "# let's also ensure we only have numeric values\n",
    "\n",
    "master['Total_P1'] = pd.to_numeric(master.Total_P1, errors='coerce')\n",
    "\n",
    "master['GEOID20'] = pd.to_numeric(master.GEOID20, errors='coerce')\n"
   ]
  },
  {
   "cell_type": "markdown",
   "id": "aa959133-b4a8-48b3-a74c-daf22a670dd9",
   "metadata": {},
   "source": [
    "## Select the fields that will potentially be used for further feature selection and later modeling"
   ]
  },
  {
   "cell_type": "code",
   "execution_count": 6,
   "id": "832c39a0-edb9-48a8-b7dc-6a8b109270bc",
   "metadata": {},
   "outputs": [],
   "source": [
    "# Define the fields we will use for ML\n",
    "cols = ['case_enquiry_id','date','ontime','case_status','subject','reason','avgprcp','Total_P1','GEOID20','ucr_one','ucr_two','total_ucr']\n",
    "master = master[cols]"
   ]
  },
  {
   "cell_type": "code",
   "execution_count": 7,
   "id": "c6cf5c46-fa7f-4a14-9318-ab5d627a464a",
   "metadata": {},
   "outputs": [],
   "source": [
    "## Encoding"
   ]
  },
  {
   "cell_type": "code",
   "execution_count": 8,
   "id": "6a8d8c63-328e-4092-bc40-db93d79825b0",
   "metadata": {},
   "outputs": [
    {
     "name": "stdout",
     "output_type": "stream",
     "text": [
      "<class 'pandas.core.frame.DataFrame'>\n",
      "RangeIndex: 1864760 entries, 0 to 1864759\n",
      "Data columns (total 75 columns):\n",
      " #   Column                                     Dtype         \n",
      "---  ------                                     -----         \n",
      " 0   case_enquiry_id                            int64         \n",
      " 1   date                                       datetime64[ns]\n",
      " 2   avgprcp                                    float64       \n",
      " 3   Total_P1                                   float64       \n",
      " 4   GEOID20                                    float64       \n",
      " 5   ucr_one                                    float64       \n",
      " 6   ucr_two                                    float64       \n",
      " 7   total_ucr                                  float64       \n",
      " 8   reason_Abandoned Bicycle                   uint8         \n",
      " 9   reason_Administrative                      uint8         \n",
      " 10  reason_Administrative & General Requests   uint8         \n",
      " 11  reason_Air Pollution Control               uint8         \n",
      " 12  reason_Alert Boston                        uint8         \n",
      " 13  reason_Animal Issues                       uint8         \n",
      " 14  reason_Billing                             uint8         \n",
      " 15  reason_Boston Bikes                        uint8         \n",
      " 16  reason_Bridge Maintenance                  uint8         \n",
      " 17  reason_Building                            uint8         \n",
      " 18  reason_Catchbasin                          uint8         \n",
      " 19  reason_Cemetery                            uint8         \n",
      " 20  reason_Code Enforcement                    uint8         \n",
      " 21  reason_Consumer Affairs Issues             uint8         \n",
      " 22  reason_Current Events                      uint8         \n",
      " 23  reason_Disability                          uint8         \n",
      " 24  reason_Employee & General Comments         uint8         \n",
      " 25  reason_Enforcement & Abandoned Vehicles    uint8         \n",
      " 26  reason_Environmental Services              uint8         \n",
      " 27  reason_Fire Department                     uint8         \n",
      " 28  reason_Fire Hydrant                        uint8         \n",
      " 29  reason_General Request                     uint8         \n",
      " 30  reason_Generic Noise Disturbance           uint8         \n",
      " 31  reason_Graffiti                            uint8         \n",
      " 32  reason_Health                              uint8         \n",
      " 33  reason_Highway Maintenance                 uint8         \n",
      " 34  reason_Housing                             uint8         \n",
      " 35  reason_MBTA                                uint8         \n",
      " 36  reason_Massport                            uint8         \n",
      " 37  reason_Needle Program                      uint8         \n",
      " 38  reason_Neighborhood Services Issues        uint8         \n",
      " 39  reason_Noise Disturbance                   uint8         \n",
      " 40  reason_Notification                        uint8         \n",
      " 41  reason_Office of The Parking Clerk         uint8         \n",
      " 42  reason_Operations                          uint8         \n",
      " 43  reason_Park Maintenance & Safety           uint8         \n",
      " 44  reason_Parking Complaints                  uint8         \n",
      " 45  reason_Pothole                             uint8         \n",
      " 46  reason_Programs                            uint8         \n",
      " 47  reason_Recycling                           uint8         \n",
      " 48  reason_Sanitation                          uint8         \n",
      " 49  reason_Sidewalk Cover / Manhole            uint8         \n",
      " 50  reason_Signs & Signals                     uint8         \n",
      " 51  reason_Street Cleaning                     uint8         \n",
      " 52  reason_Street Lights                       uint8         \n",
      " 53  reason_Test Cases                          uint8         \n",
      " 54  reason_Traffic Management & Engineering    uint8         \n",
      " 55  reason_Trees                               uint8         \n",
      " 56  reason_Valet                               uint8         \n",
      " 57  reason_Water Issues                        uint8         \n",
      " 58  reason_Weights and Measures                uint8         \n",
      " 59  subject_Animal Control                     uint8         \n",
      " 60  subject_Boston Police Department           uint8         \n",
      " 61  subject_Boston Water & Sewer Commission    uint8         \n",
      " 62  subject_CRM Application                    uint8         \n",
      " 63  subject_Consumer Affairs & Licensing       uint8         \n",
      " 64  subject_Disability Department              uint8         \n",
      " 65  subject_Inspectional Services              uint8         \n",
      " 66  subject_Mayor's 24 Hour Hotline            uint8         \n",
      " 67  subject_Neighborhood Services              uint8         \n",
      " 68  subject_Parks & Recreation Department      uint8         \n",
      " 69  subject_Property Management                uint8         \n",
      " 70  subject_Public Works Department            uint8         \n",
      " 71  subject_Transportation - Traffic Division  uint8         \n",
      " 72  ontime_ONTIME                              uint8         \n",
      " 73  ontime_OVERDUE                             uint8         \n",
      " 74  closed                                     int64         \n",
      "dtypes: datetime64[ns](1), float64(6), int64(2), uint8(66)\n",
      "memory usage: 245.4 MB\n"
     ]
    }
   ],
   "source": [
    "# One-hot encode categorical features\n",
    "master_one_hot= pd.get_dummies(data=master, columns=['reason', 'subject', 'ontime'])\n",
    "\n",
    "master_one_hot['closed'] = master_one_hot['case_status'].apply(lambda x: 1 if x=='Closed' else 0)\n",
    "\n",
    "master_one_hot = master_one_hot.drop('case_status', axis=1)\n",
    "\n",
    "master_one_hot.info(verbose=True)"
   ]
  },
  {
   "cell_type": "code",
   "execution_count": 9,
   "id": "baeb23b1-15e2-4620-9f0d-8e71bb6102b0",
   "metadata": {},
   "outputs": [],
   "source": [
    "# create simple numeric columns\n",
    "\n",
    "# there is definitely an easier way to do this, but it didn't work when I combined these into a function\n",
    "master_numeric = master\n",
    "master_numeric['reason'] = pd.factorize(master_numeric['reason'])[0]\n",
    "master_numeric['subject'] = pd.factorize(master_numeric['subject'])[0]\n",
    "master_numeric['ontime'] = pd.factorize(master_numeric['ontime'])[0]\n",
    "\n"
   ]
  },
  {
   "cell_type": "code",
   "execution_count": 10,
   "id": "4e08cb40-60cf-470c-abd9-4e609c621c3f",
   "metadata": {},
   "outputs": [
    {
     "data": {
      "text/html": [
       "<div>\n",
       "<style scoped>\n",
       "    .dataframe tbody tr th:only-of-type {\n",
       "        vertical-align: middle;\n",
       "    }\n",
       "\n",
       "    .dataframe tbody tr th {\n",
       "        vertical-align: top;\n",
       "    }\n",
       "\n",
       "    .dataframe thead th {\n",
       "        text-align: right;\n",
       "    }\n",
       "</style>\n",
       "<table border=\"1\" class=\"dataframe\">\n",
       "  <thead>\n",
       "    <tr style=\"text-align: right;\">\n",
       "      <th></th>\n",
       "      <th>case_enquiry_id</th>\n",
       "      <th>date</th>\n",
       "      <th>ontime</th>\n",
       "      <th>case_status</th>\n",
       "      <th>subject</th>\n",
       "      <th>reason</th>\n",
       "      <th>avgprcp</th>\n",
       "      <th>Total_P1</th>\n",
       "      <th>GEOID20</th>\n",
       "      <th>ucr_one</th>\n",
       "      <th>ucr_two</th>\n",
       "      <th>total_ucr</th>\n",
       "    </tr>\n",
       "  </thead>\n",
       "  <tbody>\n",
       "    <tr>\n",
       "      <th>0</th>\n",
       "      <td>101001409422</td>\n",
       "      <td>2015-06-15</td>\n",
       "      <td>0</td>\n",
       "      <td>Closed</td>\n",
       "      <td>0</td>\n",
       "      <td>0</td>\n",
       "      <td>102.0</td>\n",
       "      <td>2120.0</td>\n",
       "      <td>2.502511e+11</td>\n",
       "      <td>101.0</td>\n",
       "      <td>436.0</td>\n",
       "      <td>537.0</td>\n",
       "    </tr>\n",
       "    <tr>\n",
       "      <th>1</th>\n",
       "      <td>101001409423</td>\n",
       "      <td>2015-06-15</td>\n",
       "      <td>0</td>\n",
       "      <td>Open</td>\n",
       "      <td>1</td>\n",
       "      <td>1</td>\n",
       "      <td>102.0</td>\n",
       "      <td>1033.0</td>\n",
       "      <td>2.502510e+11</td>\n",
       "      <td>83.0</td>\n",
       "      <td>294.0</td>\n",
       "      <td>377.0</td>\n",
       "    </tr>\n",
       "    <tr>\n",
       "      <th>2</th>\n",
       "      <td>101001409424</td>\n",
       "      <td>2015-06-15</td>\n",
       "      <td>1</td>\n",
       "      <td>Open</td>\n",
       "      <td>0</td>\n",
       "      <td>2</td>\n",
       "      <td>102.0</td>\n",
       "      <td>1872.0</td>\n",
       "      <td>2.502512e+11</td>\n",
       "      <td>116.0</td>\n",
       "      <td>444.0</td>\n",
       "      <td>560.0</td>\n",
       "    </tr>\n",
       "    <tr>\n",
       "      <th>3</th>\n",
       "      <td>101001409425</td>\n",
       "      <td>2015-06-15</td>\n",
       "      <td>1</td>\n",
       "      <td>Closed</td>\n",
       "      <td>0</td>\n",
       "      <td>2</td>\n",
       "      <td>102.0</td>\n",
       "      <td>610.0</td>\n",
       "      <td>2.502507e+11</td>\n",
       "      <td>617.0</td>\n",
       "      <td>1644.0</td>\n",
       "      <td>2261.0</td>\n",
       "    </tr>\n",
       "    <tr>\n",
       "      <th>4</th>\n",
       "      <td>101001409429</td>\n",
       "      <td>2015-06-15</td>\n",
       "      <td>0</td>\n",
       "      <td>Open</td>\n",
       "      <td>1</td>\n",
       "      <td>1</td>\n",
       "      <td>102.0</td>\n",
       "      <td>1354.0</td>\n",
       "      <td>2.502509e+11</td>\n",
       "      <td>156.0</td>\n",
       "      <td>620.0</td>\n",
       "      <td>776.0</td>\n",
       "    </tr>\n",
       "  </tbody>\n",
       "</table>\n",
       "</div>"
      ],
      "text/plain": [
       "   case_enquiry_id       date  ontime case_status  subject  reason  avgprcp  \\\n",
       "0     101001409422 2015-06-15       0      Closed        0       0    102.0   \n",
       "1     101001409423 2015-06-15       0        Open        1       1    102.0   \n",
       "2     101001409424 2015-06-15       1        Open        0       2    102.0   \n",
       "3     101001409425 2015-06-15       1      Closed        0       2    102.0   \n",
       "4     101001409429 2015-06-15       0        Open        1       1    102.0   \n",
       "\n",
       "   Total_P1       GEOID20  ucr_one  ucr_two  total_ucr  \n",
       "0    2120.0  2.502511e+11    101.0    436.0      537.0  \n",
       "1    1033.0  2.502510e+11     83.0    294.0      377.0  \n",
       "2    1872.0  2.502512e+11    116.0    444.0      560.0  \n",
       "3     610.0  2.502507e+11    617.0   1644.0     2261.0  \n",
       "4    1354.0  2.502509e+11    156.0    620.0      776.0  "
      ]
     },
     "execution_count": 10,
     "metadata": {},
     "output_type": "execute_result"
    }
   ],
   "source": [
    "master_numeric.head()"
   ]
  },
  {
   "cell_type": "code",
   "execution_count": 11,
   "id": "2f815e88-838a-4187-933e-18746f10290e",
   "metadata": {},
   "outputs": [
    {
     "data": {
      "image/png": "[encoded data removed]",
      "text/plain": [
       "<Figure size 800x550 with 1 Axes>"
      ]
     },
     "metadata": {},
     "output_type": "display_data"
    }
   ],
   "source": [
    "# we clearly have class imbalance\n",
    "%matplotlib inline\n",
    "\n",
    "sns.set_theme(style=\"darkgrid\")\n",
    "\n",
    "status_count_fig = master_one_hot['closed'].value_counts().plot(kind='bar')\n",
    "status_count_fig.bar_label(status_count_fig.containers[0], fmt='%d' );\n",
    "\n"
   ]
  },
  {
   "cell_type": "code",
   "execution_count": 12,
   "id": "9ff0ac26-dd4e-41b5-a86c-5659bc1e7a78",
   "metadata": {},
   "outputs": [
    {
     "data": {
      "text/plain": [
       "1    1676008\n",
       "0    1676008\n",
       "Name: closed, dtype: int64"
      ]
     },
     "execution_count": 12,
     "metadata": {},
     "output_type": "execute_result"
    }
   ],
   "source": [
    "# let's rebalance with undersampling\n",
    "\n",
    "closed=master_one_hot[master_one_hot.closed==1]\n",
    "open=master_one_hot[master_one_hot.closed==0]\n",
    "\n",
    "# upsample minority\n",
    "open_upsampled = resample(open\n",
    "                            , replace=True # sample with replacement \n",
    "                            , n_samples=len(closed) # match number in majority class\n",
    "                          , random_state=12022022) # set seed\n",
    "\n",
    "# combine majority and upsampled minority\n",
    "upsampled = pd.concat([closed, open_upsampled])\n",
    "\n",
    "# check new class counts\n",
    "upsampled.closed.value_counts()"
   ]
  },
  {
   "cell_type": "code",
   "execution_count": 13,
   "id": "8487bc2b-3839-4e06-9eba-e50450c73470",
   "metadata": {},
   "outputs": [
    {
     "data": {
      "image/png": "[encoded data removed]",
      "text/plain": [
       "<Figure size 800x550 with 1 Axes>"
      ]
     },
     "metadata": {},
     "output_type": "display_data"
    }
   ],
   "source": [
    "# now let's check our balance\n",
    "status_count_fig = upsampled['closed'].value_counts().plot(kind='bar')\n",
    "status_count_fig.bar_label(status_count_fig.containers[0], fmt='%d' );\n",
    "\n"
   ]
  },
  {
   "cell_type": "code",
   "execution_count": 48,
   "id": "2b4d18ee-41b9-4456-971b-5cadf2253c81",
   "metadata": {},
   "outputs": [],
   "source": [
    "# Prepare data for modeling\n",
    "\n",
    "import datetime as dt\n",
    "\n",
    "\n",
    "X = upsampled.drop('closed', axis=1)\n",
    "X = X.drop('avgprcp', axis = 1)\n",
    "X = X.drop('case_enquiry_id', axis = 1)\n",
    "X['date']=X['date'].map(dt.datetime.toordinal)\n",
    "\n",
    "y = upsampled['closed']\n",
    "\n"
   ]
  },
  {
   "cell_type": "markdown",
   "id": "92a81051-4abb-40e1-86c0-5433fae5f925",
   "metadata": {},
   "source": [
    "#### test, train split\n"
   ]
  },
  {
   "cell_type": "code",
   "execution_count": 49,
   "id": "4ebc8b3a-d5db-42b7-a2a6-fd81be0863c5",
   "metadata": {},
   "outputs": [],
   "source": [
    "tscv = TimeSeriesSplit()\n",
    "\n",
    "for train_index, test_index in tscv.split(X):\n",
    "    X_train, X_test = X.iloc[train_index, :], X.iloc[test_index,:]\n",
    "    y_train, y_test = y.iloc[train_index], y.iloc[test_index]\n",
    "     "
   ]
  },
  {
   "cell_type": "code",
   "execution_count": 50,
   "id": "88f78c78-3e97-4d23-ada7-0417319ef383",
   "metadata": {},
   "outputs": [],
   "source": [
    "\n",
    "from sklearn.metrics import f1_score\n",
    "from sklearn.pipeline import Pipeline\n",
    "from sklearn.svm import LinearSVC, NuSVC, SVC\n",
    "from sklearn.neighbors import KNeighborsClassifier\n",
    "from sklearn.model_selection import train_test_split as tts\n",
    "from sklearn.preprocessing import OneHotEncoder, LabelEncoder\n",
    "from sklearn.linear_model import LogisticRegressionCV, LogisticRegression, SGDClassifier\n",
    "from sklearn.ensemble import BaggingClassifier, ExtraTreesClassifier, RandomForestClassifier\n",
    "\n",
    "def score_model(X, y, estimator, **kwargs):\n",
    "    \"\"\"\n",
    "    Test various estimators.\n",
    "    \"\"\" \n",
    "    y = LabelEncoder().fit_transform(y)\n",
    "    model = Pipeline([\n",
    "         ('one_hot_encoder', OneHotEncoder()), \n",
    "         ('estimator', estimator)\n",
    "    ])\n",
    "\n",
    "    # Instantiate the classification model and visualizer\n",
    "    model.fit(X, y, **kwargs)  \n",
    "    \n",
    "    expected  = y\n",
    "    predicted = model.predict(X)\n",
    "    \n",
    "    # Compute and return F1 (harmonic mean of precision and recall)\n",
    "    print(\"{}: {}\".format(estimator.__class__.__name__, f1_score(expected, predicted)))\n",
    "\n",
    "\n",
    "    "
   ]
  },
  {
   "cell_type": "code",
   "execution_count": null,
   "id": "ea631e4b-7ab9-433f-99de-f75c8c9560cb",
   "metadata": {},
   "outputs": [],
   "source": [
    "def visualize_model(X, y, estimator):\n",
    "    \"\"\"\n",
    "    Test various estimators.\n",
    "    \"\"\" \n",
    "\n",
    "    # Instantiate the classification model and visualizer\n",
    "    visualizer = ClassificationReport(\n",
    "        model, \n",
    "        classes=['Closed', 'Open'], \n",
    "        cmap=\"Reds\", \n",
    "        support=True,\n",
    "        size=(600, 360)\n",
    "    )\n",
    "    \n",
    "    X_train, X_test, y_train, y_test = tts(X, y, test_size=0.20)\n",
    "    \n",
    "    visualizer.fit(X_train, y_train)  \n",
    "    visualizer.score(X_test, y_test)\n",
    "    visualizer.show()  \n",
    "\n",
    "for model in models:\n",
    "    visualize_model(X, y, model)\n"
   ]
  },
  {
   "cell_type": "code",
   "execution_count": 32,
   "id": "fdfa7900-2390-425f-9244-46614efa801c",
   "metadata": {},
   "outputs": [],
   "source": [
    "from sklearn.linear_model import Ridge, Lasso, ElasticNet\n",
    "\n",
    "model = Lasso() # what does alpha default to? What happens when you change it?\n",
    "#model.fit(X, y)\n"
   ]
  },
  {
   "cell_type": "code",
   "execution_count": 33,
   "id": "ce3b0735-3072-4151-9ba0-6b2addde6a88",
   "metadata": {},
   "outputs": [
    {
     "data": {
      "text/plain": [
       "Lasso()"
      ]
     },
     "execution_count": 33,
     "metadata": {},
     "output_type": "execute_result"
    }
   ],
   "source": [
    "model"
   ]
  },
  {
   "cell_type": "code",
   "execution_count": 52,
   "id": "9247d56d-8516-4106-b2ff-60245f1699e4",
   "metadata": {},
   "outputs": [
    {
     "data": {
      "text/plain": [
       "date                                           0\n",
       "Total_P1                                     146\n",
       "GEOID20                                      146\n",
       "ucr_one                                      146\n",
       "ucr_two                                      146\n",
       "                                            ... \n",
       "subject_Property Management                    0\n",
       "subject_Public Works Department                0\n",
       "subject_Transportation - Traffic Division      0\n",
       "ontime_ONTIME                                  0\n",
       "ontime_OVERDUE                                 0\n",
       "Length: 72, dtype: int64"
      ]
     },
     "execution_count": 52,
     "metadata": {},
     "output_type": "execute_result"
    }
   ],
   "source": [
    "X.isna().sum()"
   ]
  },
  {
   "cell_type": "code",
   "execution_count": null,
   "id": "023d4f65-4d0a-43a3-82c4-35b3e3390168",
   "metadata": {},
   "outputs": [],
   "source": []
  }
 ],
 "metadata": {
  "kernelspec": {
   "display_name": "Python 3 (ipykernel)",
   "language": "python",
   "name": "python3"
  },
  "language_info": {
   "codemirror_mode": {
    "name": "ipython",
    "version": 3
   },
   "file_extension": ".py",
   "mimetype": "text/x-python",
   "name": "python",
   "nbconvert_exporter": "python",
   "pygments_lexer": "ipython3",
   "version": "3.9.15"
  }
 },
 "nbformat": 4,
 "nbformat_minor": 5
}
