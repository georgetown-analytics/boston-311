{
 "cells": [
  {
   "cell_type": "markdown",
   "metadata": {},
   "source": [
    "**Property Asessment**"
   ]
  },
  {
   "cell_type": "markdown",
   "metadata": {},
   "source": [
    "**I will import various libraries as I might need to use them later.**"
   ]
  },
  {
   "cell_type": "code",
   "execution_count": 1,
   "metadata": {},
   "outputs": [],
   "source": [
    "import pandas as pd\n",
    "import matplotlib.pyplot as plt\n",
    "from datetime import date\n",
    "import seaborn as sns\n",
    "import numpy as np\n",
    "import glob\n",
    "import os"
   ]
  },
  {
   "cell_type": "markdown",
   "metadata": {},
   "source": [
    "**I will then add my CSV file to the data frame.**"
   ]
  },
  {
   "cell_type": "code",
   "execution_count": 7,
   "metadata": {},
   "outputs": [
    {
     "name": "stderr",
     "output_type": "stream",
     "text": [
      "/home/hihipy/coding-workspace/boston-crime/02 code/import-property-asessment.py:23: DtypeWarning: Columns (13,42,46,49) have mixed types. Specify dtype option on import or set low_memory=False.\n",
      "  dfs = [pd.read_csv(url) for url in urls]\n",
      "/home/hihipy/coding-workspace/boston-crime/02 code/import-property-asessment.py:23: DtypeWarning: Columns (13,46,49) have mixed types. Specify dtype option on import or set low_memory=False.\n",
      "  dfs = [pd.read_csv(url) for url in urls]\n",
      "/home/hihipy/coding-workspace/boston-crime/02 code/import-property-asessment.py:23: DtypeWarning: Columns (15,46,53,55) have mixed types. Specify dtype option on import or set low_memory=False.\n",
      "  dfs = [pd.read_csv(url) for url in urls]\n",
      "/home/hihipy/coding-workspace/boston-crime/02 code/import-property-asessment.py:23: DtypeWarning: Columns (60,63) have mixed types. Specify dtype option on import or set low_memory=False.\n",
      "  dfs = [pd.read_csv(url) for url in urls]\n",
      "/home/hihipy/coding-workspace/boston-crime/02 code/import-property-asessment.py:23: DtypeWarning: Columns (60,63) have mixed types. Specify dtype option on import or set low_memory=False.\n",
      "  dfs = [pd.read_csv(url) for url in urls]\n",
      "/home/hihipy/coding-workspace/boston-crime/02 code/import-property-asessment.py:23: DtypeWarning: Columns (15,60,63) have mixed types. Specify dtype option on import or set low_memory=False.\n",
      "  dfs = [pd.read_csv(url) for url in urls]\n",
      "/home/hihipy/coding-workspace/boston-crime/02 code/import-property-asessment.py:23: DtypeWarning: Columns (15,60) have mixed types. Specify dtype option on import or set low_memory=False.\n",
      "  dfs = [pd.read_csv(url) for url in urls]\n",
      "/home/hihipy/coding-workspace/boston-crime/02 code/import-property-asessment.py:23: DtypeWarning: Columns (6,15,27,28,29,34,35,36,37,38,39,40,41,42,44,45,46,47,48,58,59,64,65,66,67,68,69,70,72,73,74) have mixed types. Specify dtype option on import or set low_memory=False.\n",
      "  dfs = [pd.read_csv(url) for url in urls]\n"
     ]
    },
    {
     "name": "stdout",
     "output_type": "stream",
     "text": [
      "\n",
      "IPython CPU timings (estimated):\n",
      "  User   :      11.48 s.\n",
      "  System :       3.39 s.\n",
      "Wall time:     159.02 s.\n"
     ]
    }
   ],
   "source": [
    "%run -t import-property-asessment.py\n",
    "\n",
    "###I will also include local csv script\n",
    "#df = pd.read_csv('/home/hihipy/coding-workspace/csvs/pa-combined.csv')"
   ]
  },
  {
   "cell_type": "markdown",
   "metadata": {},
   "source": [
    "**Now let us do some analysis!**"
   ]
  },
  {
   "cell_type": "code",
   "execution_count": 8,
   "metadata": {},
   "outputs": [
    {
     "name": "stdout",
     "output_type": "stream",
     "text": [
      "<class 'pandas.core.frame.DataFrame'>\n",
      "RangeIndex: 1881020 entries, 0 to 1881019\n",
      "Columns: 134 entries, PID to ORIENTATION\n",
      "dtypes: float64(39), object(95)\n",
      "memory usage: 1.9+ GB\n"
     ]
    }
   ],
   "source": [
    "df_propasess.info()"
   ]
  }
 ],
 "metadata": {
  "kernelspec": {
   "display_name": "Python 3.9.12 ('base')",
   "language": "python",
   "name": "python3"
  },
  "language_info": {
   "codemirror_mode": {
    "name": "ipython",
    "version": 3
   },
   "file_extension": ".py",
   "mimetype": "text/x-python",
   "name": "python",
   "nbconvert_exporter": "python",
   "pygments_lexer": "ipython3",
   "version": "3.9.12"
  },
  "orig_nbformat": 4,
  "vscode": {
   "interpreter": {
    "hash": "1fb96ad35905788f7fa6384c97c9e8a1128f96e26ded873eeb58b91860ec85cc"
   }
  }
 },
 "nbformat": 4,
 "nbformat_minor": 2
}
