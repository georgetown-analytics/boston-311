{
 "cells": [
  {
   "cell_type": "code",
   "execution_count": null,
   "id": "de7c2ffe-8e8d-4642-bda4-0006e4783f79",
   "metadata": {},
   "outputs": [],
   "source": [
    "## Initial Exploration of the political contribution data\n",
    "#####################################################################\n",
    "# This file explores the data from the Massachusetts Office of Campaign and Political Finance\n",
    "# to import the data we must first run the import-contribution-data.py file\n",
    "# this file also loads pandas\n",
    "#####################################################################\n",
    "import matplotlib.pyplot as plt\n",
    "from datetime import date\n",
    "import seaborn as sns\n",
    "import numpy as np\n",
    "\n",
    "\n",
    "%run -t import-contribution-data.py"
   ]
  },
  {
   "cell_type": "code",
   "execution_count": null,
   "id": "8814ff20-3153-44dc-ad91-6f297915df79",
   "metadata": {},
   "outputs": [],
   "source": [
    "# let's see how many rows and columns we have\n",
    "df_contrib.shape"
   ]
  },
  {
   "cell_type": "code",
   "execution_count": null,
   "id": "10d52e5a-b340-43f7-8329-b5b96fcea905",
   "metadata": {},
   "outputs": [],
   "source": [
    "# total unique observations per column\n",
    "df_contrib.nunique()"
   ]
  },
  {
   "cell_type": "code",
   "execution_count": null,
   "id": "13ddf1b9-a478-422c-a377-65d25eb95720",
   "metadata": {},
   "outputs": [],
   "source": [
    "# let's get the relevant numeric IQRs and means\n",
    "df_contrib.describe()"
   ]
  }
 ],
 "metadata": {
  "kernelspec": {
   "display_name": "Python 3 (ipykernel)",
   "language": "python",
   "name": "python3"
  },
  "language_info": {
   "codemirror_mode": {
    "name": "ipython",
    "version": 3
   },
   "file_extension": ".py",
   "mimetype": "text/x-python",
   "name": "python",
   "nbconvert_exporter": "python",
   "pygments_lexer": "ipython3",
   "version": "3.9.12"
  }
 },
 "nbformat": 4,
 "nbformat_minor": 5
}
