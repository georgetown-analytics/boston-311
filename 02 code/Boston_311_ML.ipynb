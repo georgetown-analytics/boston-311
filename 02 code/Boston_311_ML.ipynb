{
 "cells": [
  {
   "cell_type": "markdown",
   "id": "edf7d672",
   "metadata": {},
   "source": [
    "## Read in processed data from the Boston master merger notebook"
   ]
  },
  {
   "cell_type": "code",
   "execution_count": null,
   "id": "250ff385",
   "metadata": {},
   "outputs": [],
   "source": [
    "# This will take several mintues to run. Kick back and relax. Or this is a good time to get a cup of coffee.\n",
    "%run Boston_311_Master_Merger.ipynb"
   ]
  },
  {
   "cell_type": "code",
   "execution_count": null,
   "id": "1bf6d9b7",
   "metadata": {},
   "outputs": [],
   "source": [
    "# Examine the shape the master dataframe from the merged ipynb\n",
    "print('Number of Rows: ', master.shape[0])\n",
    "print('Number of Columns: ', master.shape[1])"
   ]
  },
  {
   "cell_type": "code",
   "execution_count": null,
   "id": "620eade9",
   "metadata": {
    "scrolled": true
   },
   "outputs": [],
   "source": [
    "# Explore the fields and values from the master dataframe to determine what fields we will need for ML\n",
    "pd.set_option('display.max_columns', None)\n",
    "master.head()"
   ]
  },
  {
   "cell_type": "markdown",
   "id": "af72881f",
   "metadata": {},
   "source": [
    "## Select the fields that will potentially be used for further feature selection and later modeling"
   ]
  },
  {
   "cell_type": "code",
   "execution_count": null,
   "id": "3592463c",
   "metadata": {},
   "outputs": [],
   "source": [
    "# Define the fields we will use for ML\n",
    "cols = ['case_enquiry_id','date','ontime','case_status','subject','reason','avgprcp','Total_P1','GEOID20','ucr_one','ucr_two','total_ucr']\n",
    "master = master[cols]"
   ]
  },
  {
   "cell_type": "code",
   "execution_count": null,
   "id": "a1266c98",
   "metadata": {},
   "outputs": [],
   "source": [
    "master.shape"
   ]
  },
  {
   "cell_type": "code",
   "execution_count": null,
   "id": "388441a5",
   "metadata": {},
   "outputs": [],
   "source": [
    "master.head()"
   ]
  },
  {
   "cell_type": "markdown",
   "id": "21d59503",
   "metadata": {},
   "source": [
    "## Date enrichment"
   ]
  },
  {
   "cell_type": "code",
   "execution_count": null,
   "id": "882bd342",
   "metadata": {},
   "outputs": [],
   "source": [
    "# Breakout day, month, and year from the date field\n",
    "master['day'] = master['date'].dt.day\n",
    "master['month'] = master['date'].dt.month\n",
    "master['year'] = master['date'].dt.year"
   ]
  },
  {
   "cell_type": "markdown",
   "id": "c309265c",
   "metadata": {},
   "source": [
    "## Encoding"
   ]
  },
  {
   "cell_type": "code",
   "execution_count": null,
   "id": "22b36bf2",
   "metadata": {},
   "outputs": [],
   "source": [
    "# See which fields contain categorical vs numerical values\n",
    "master.dtypes"
   ]
  },
  {
   "cell_type": "code",
   "execution_count": null,
   "id": "7d927a2e",
   "metadata": {},
   "outputs": [],
   "source": [
    "# Encode categorical features"
   ]
  },
  {
   "cell_type": "markdown",
   "id": "a4933dee",
   "metadata": {},
   "source": [
    "## Feature Analysis"
   ]
  },
  {
   "cell_type": "code",
   "execution_count": null,
   "id": "89dab31b",
   "metadata": {},
   "outputs": [],
   "source": []
  },
  {
   "cell_type": "code",
   "execution_count": null,
   "id": "3a1b630c",
   "metadata": {},
   "outputs": [],
   "source": [
    "# Pearson's Correlation"
   ]
  },
  {
   "cell_type": "code",
   "execution_count": null,
   "id": "7f37294d",
   "metadata": {},
   "outputs": [],
   "source": []
  },
  {
   "cell_type": "markdown",
   "id": "e48cbd8e",
   "metadata": {},
   "source": [
    "## Model Selection"
   ]
  },
  {
   "cell_type": "code",
   "execution_count": null,
   "id": "d6c1affa",
   "metadata": {},
   "outputs": [],
   "source": []
  }
 ],
 "metadata": {
  "kernelspec": {
   "display_name": "Python 3 (ipykernel)",
   "language": "python",
   "name": "python3"
  },
  "language_info": {
   "codemirror_mode": {
    "name": "ipython",
    "version": 3
   },
   "file_extension": ".py",
   "mimetype": "text/x-python",
   "name": "python",
   "nbconvert_exporter": "python",
   "pygments_lexer": "ipython3",
   "version": "3.8.13"
  }
 },
 "nbformat": 4,
 "nbformat_minor": 5
}
