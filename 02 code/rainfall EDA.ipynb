{
 "cells": [
  {
   "cell_type": "code",
   "execution_count": 112,
   "id": "81cc8289-edc6-49ce-97ef-7e6e27902ec3",
   "metadata": {},
   "outputs": [
    {
     "name": "stdout",
     "output_type": "stream",
     "text": [
      "\n",
      "IPython CPU timings (estimated):\n",
      "  User   :       0.69 s.\n",
      "  System :       0.05 s.\n",
      "Wall time:       3.96 s.\n"
     ]
    }
   ],
   "source": [
    "# Initial Exploration of the rainfall data\n",
    "#####################################################################\n",
    "# This file explores the data from NOAA rainfall data\n",
    "# to import the data we must first run the import-weater-data.py file\n",
    "# this file also loads pandas\n",
    "#####################################################################\n",
    "import matplotlib.pyplot as plt\n",
    "from datetime import date\n",
    "import seaborn as sns\n",
    "import numpy as np\n",
    "\n",
    "\n",
    "%run -t import-weather-data.py"
   ]
  },
  {
   "cell_type": "code",
   "execution_count": 113,
   "id": "23f5f7c3-57fb-43c2-9e18-f711dfb114d6",
   "metadata": {},
   "outputs": [
    {
     "name": "stdout",
     "output_type": "stream",
     "text": [
      "<class 'pandas.core.frame.DataFrame'>\n",
      "RangeIndex: 3903 entries, 0 to 3902\n",
      "Data columns (total 2 columns):\n",
      " #   Column   Non-Null Count  Dtype         \n",
      "---  ------   --------------  -----         \n",
      " 0   date     3903 non-null   datetime64[ns]\n",
      " 1   avgprcp  3903 non-null   int64         \n",
      "dtypes: datetime64[ns](1), int64(1)\n",
      "memory usage: 61.1 KB\n"
     ]
    }
   ],
   "source": [
    "df_prcp.info()"
   ]
  },
  {
   "cell_type": "code",
   "execution_count": null,
   "id": "b918eacb-ccae-423f-8257-5c28a9f88535",
   "metadata": {},
   "outputs": [],
   "source": []
  }
 ],
 "metadata": {
  "kernelspec": {
   "display_name": "Python 3 (ipykernel)",
   "language": "python",
   "name": "python3"
  },
  "language_info": {
   "codemirror_mode": {
    "name": "ipython",
    "version": 3
   },
   "file_extension": ".py",
   "mimetype": "text/x-python",
   "name": "python",
   "nbconvert_exporter": "python",
   "pygments_lexer": "ipython3",
   "version": "3.9.12"
  }
 },
 "nbformat": 4,
 "nbformat_minor": 5
}
