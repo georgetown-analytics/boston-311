{
 "cells": [
  {
   "cell_type": "code",
   "execution_count": 1,
   "id": "81cc8289-edc6-49ce-97ef-7e6e27902ec3",
   "metadata": {},
   "outputs": [
    {
     "name": "stdout",
     "output_type": "stream",
     "text": [
      "\n",
      "IPython CPU timings (estimated):\n",
      "  User   :       0.72 s.\n",
      "  System :       0.05 s.\n",
      "Wall time:      24.66 s.\n"
     ]
    }
   ],
   "source": [
    "# Initial Exploration of the rainfall data\n",
    "#####################################################################\n",
    "# This file explores the data from NOAA rainfall data\n",
    "# to import the data we must first run the import-weater-data.py file\n",
    "# this file also loads pandas\n",
    "#####################################################################\n",
    "import matplotlib.pyplot as plt\n",
    "from datetime import date\n",
    "import seaborn as sns\n",
    "import numpy as np\n",
    "\n",
    "\n",
    "%run -t import-weather-data.py"
   ]
  },
  {
   "cell_type": "code",
   "execution_count": 2,
   "id": "23f5f7c3-57fb-43c2-9e18-f711dfb114d6",
   "metadata": {},
   "outputs": [
    {
     "name": "stdout",
     "output_type": "stream",
     "text": [
      "<class 'pandas.core.frame.DataFrame'>\n",
      "RangeIndex: 3923 entries, 0 to 3922\n",
      "Data columns (total 2 columns):\n",
      " #   Column   Non-Null Count  Dtype         \n",
      "---  ------   --------------  -----         \n",
      " 0   date     3923 non-null   datetime64[ns]\n",
      " 1   avgprcp  3923 non-null   int64         \n",
      "dtypes: datetime64[ns](1), int64(1)\n",
      "memory usage: 61.4 KB\n"
     ]
    }
   ],
   "source": [
    "df_prcp.info(verbose = True)"
   ]
  },
  {
   "cell_type": "code",
   "execution_count": 3,
   "id": "b918eacb-ccae-423f-8257-5c28a9f88535",
   "metadata": {},
   "outputs": [
    {
     "data": {
      "text/plain": [
       "date       3923\n",
       "avgprcp     179\n",
       "dtype: int64"
      ]
     },
     "execution_count": 3,
     "metadata": {},
     "output_type": "execute_result"
    }
   ],
   "source": [
    "df_prcp.nunique()"
   ]
  },
  {
   "cell_type": "code",
   "execution_count": 5,
   "id": "e610b0a4-bf64-4b9b-9f1b-87cb3493a17c",
   "metadata": {},
   "outputs": [
    {
     "data": {
      "text/html": [
       "<div>\n",
       "<style scoped>\n",
       "    .dataframe tbody tr th:only-of-type {\n",
       "        vertical-align: middle;\n",
       "    }\n",
       "\n",
       "    .dataframe tbody tr th {\n",
       "        vertical-align: top;\n",
       "    }\n",
       "\n",
       "    .dataframe thead th {\n",
       "        text-align: right;\n",
       "    }\n",
       "</style>\n",
       "<table border=\"1\" class=\"dataframe\">\n",
       "  <thead>\n",
       "    <tr style=\"text-align: right;\">\n",
       "      <th></th>\n",
       "      <th>avgprcp</th>\n",
       "    </tr>\n",
       "  </thead>\n",
       "  <tbody>\n",
       "    <tr>\n",
       "      <th>count</th>\n",
       "      <td>3923.000000</td>\n",
       "    </tr>\n",
       "    <tr>\n",
       "      <th>mean</th>\n",
       "      <td>30.286770</td>\n",
       "    </tr>\n",
       "    <tr>\n",
       "      <th>std</th>\n",
       "      <td>79.775374</td>\n",
       "    </tr>\n",
       "    <tr>\n",
       "      <th>min</th>\n",
       "      <td>0.000000</td>\n",
       "    </tr>\n",
       "    <tr>\n",
       "      <th>25%</th>\n",
       "      <td>0.000000</td>\n",
       "    </tr>\n",
       "    <tr>\n",
       "      <th>50%</th>\n",
       "      <td>0.000000</td>\n",
       "    </tr>\n",
       "    <tr>\n",
       "      <th>75%</th>\n",
       "      <td>13.000000</td>\n",
       "    </tr>\n",
       "    <tr>\n",
       "      <th>max</th>\n",
       "      <td>864.000000</td>\n",
       "    </tr>\n",
       "  </tbody>\n",
       "</table>\n",
       "</div>"
      ],
      "text/plain": [
       "           avgprcp\n",
       "count  3923.000000\n",
       "mean     30.286770\n",
       "std      79.775374\n",
       "min       0.000000\n",
       "25%       0.000000\n",
       "50%       0.000000\n",
       "75%      13.000000\n",
       "max     864.000000"
      ]
     },
     "execution_count": 5,
     "metadata": {},
     "output_type": "execute_result"
    }
   ],
   "source": [
    "df_prcp.describe()"
   ]
  },
  {
   "cell_type": "code",
   "execution_count": 4,
   "id": "fecf4a63-76ce-4cd0-b67c-fc942247d904",
   "metadata": {},
   "outputs": [
    {
     "data": {
      "text/plain": [
       "<AxesSubplot:xlabel='date'>"
      ]
     },
     "execution_count": 4,
     "metadata": {},
     "output_type": "execute_result"
    },
    {
     "data": {
      "image/png": "[encoded data removed]",
      "text/plain": [
       "<Figure size 640x480 with 1 Axes>"
      ]
     },
     "metadata": {},
     "output_type": "display_data"
    }
   ],
   "source": [
    "# get the total number of closed calls by month\n",
    "total_daily_rain = df_prcp.groupby(['date']).agg({'avgprcp': ['sum']}).reset_index()\n",
    "\n",
    "# rename the columns\n",
    "total_daily_rain.columns = ['date', 'sum']\n",
    "\n",
    "# set date as the row index\n",
    "total_daily_rain = total_daily_rain.set_index(\"date\")\n",
    "\n",
    "# take a look\n",
    "total_daily_rain.plot()"
   ]
  },
  {
   "cell_type": "code",
   "execution_count": null,
   "id": "91e2d84b-32f7-4326-a36c-72daa9ecf13f",
   "metadata": {},
   "outputs": [],
   "source": []
  }
 ],
 "metadata": {
  "kernelspec": {
   "display_name": "Python 3 (ipykernel)",
   "language": "python",
   "name": "python3"
  },
  "language_info": {
   "codemirror_mode": {
    "name": "ipython",
    "version": 3
   },
   "file_extension": ".py",
   "mimetype": "text/x-python",
   "name": "python",
   "nbconvert_exporter": "python",
   "pygments_lexer": "ipython3",
   "version": "3.9.12"
  }
 },
 "nbformat": 4,
 "nbformat_minor": 5
}
