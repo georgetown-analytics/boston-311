{
 "cells": [
  {
   "cell_type": "markdown",
   "id": "0cb264db",
   "metadata": {},
   "source": [
    "## 1) Import libraries"
   ]
  },
  {
   "cell_type": "code",
   "execution_count": null,
   "id": "f4dcd735",
   "metadata": {},
   "outputs": [],
   "source": [
    "import pandas as pd\n",
    "import numpy as np\n",
    "import datetime\n",
    "from datetime import datetime\n",
    "import json\n",
    "import requests\n",
    "import geopandas as gpd"
   ]
  },
  {
   "cell_type": "markdown",
   "id": "bb7ce14b",
   "metadata": {},
   "source": [
    "## 2) Read in 311 data from Analyze Boston"
   ]
  },
  {
   "cell_type": "code",
   "execution_count": null,
   "id": "7d3a85df",
   "metadata": {},
   "outputs": [],
   "source": [
    "then = datetime.now()\n",
    "# create a vector of URLs\n",
    "urls = [\"https://data.boston.gov/dataset/8048697b-ad64-4bfc-b090-ee00169f2323/resource/c9509ab4-6f6d-4b97-979a-0cf2a10c922b/download/311_service_requests_2015.csv\"\n",
    "        , \"https://data.boston.gov/dataset/8048697b-ad64-4bfc-b090-ee00169f2323/resource/b7ea6b1b-3ca4-4c5b-9713-6dc1db52379a/download/311_service_requests_2016.csv\"\n",
    "        , \"https://data.boston.gov/dataset/8048697b-ad64-4bfc-b090-ee00169f2323/resource/30022137-709d-465e-baae-ca155b51927d/download/311_service_requests_2017.csv\"\n",
    "        , \"https://data.boston.gov/dataset/8048697b-ad64-4bfc-b090-ee00169f2323/resource/2be28d90-3a90-4af1-a3f6-f28c1e25880a/download/311_service_requests_2018.csv\"\n",
    "        , \"https://data.boston.gov/dataset/8048697b-ad64-4bfc-b090-ee00169f2323/resource/ea2e4696-4a2d-429c-9807-d02eb92e0222/download/311_service_requests_2019.csv\"\n",
    "        , \"https://data.boston.gov/dataset/8048697b-ad64-4bfc-b090-ee00169f2323/resource/6ff6a6fd-3141-4440-a880-6f60a37fe789/download/script_105774672_20210108153400_combine.csv\"\n",
    "        , \"https://data.boston.gov/dataset/8048697b-ad64-4bfc-b090-ee00169f2323/resource/f53ebccd-bc61-49f9-83db-625f209c95f5/download/tmppgq9965_.csv\"\n",
    "        , \"https://data.boston.gov/dataset/8048697b-ad64-4bfc-b090-ee00169f2323/resource/81a7b022-f8fc-4da5-80e4-b160058ca207/download/tmp53_2kemh.csv\"\n",
    "       ]"
   ]
  },
  {
   "cell_type": "code",
   "execution_count": null,
   "id": "3f204582",
   "metadata": {},
   "outputs": [],
   "source": [
    "# import each csv\n",
    "dfs = [pd.read_csv(url) for url in urls]"
   ]
  },
  {
   "cell_type": "code",
   "execution_count": null,
   "id": "c59764f0",
   "metadata": {},
   "outputs": [],
   "source": [
    "# combine into a single data frame\n",
    "df_311 = pd.concat(dfs, ignore_index=True)"
   ]
  },
  {
   "cell_type": "code",
   "execution_count": null,
   "id": "e2a14d67",
   "metadata": {
    "scrolled": false
   },
   "outputs": [],
   "source": [
    "pd.set_option('display.max_columns',None)\n",
    "df_311.head(1)"
   ]
  },
  {
   "cell_type": "code",
   "execution_count": null,
   "id": "491e9e85",
   "metadata": {},
   "outputs": [],
   "source": [
    "df_311.shape"
   ]
  },
  {
   "cell_type": "code",
   "execution_count": null,
   "id": "dfe81ad4",
   "metadata": {},
   "outputs": [],
   "source": [
    "# convert the closed date to a date time format\n",
    "df_311['closed_dt'] = pd.to_datetime(df_311['closed_dt'])\n",
    "df_311['open_dt'] = pd.to_datetime(df_311['open_dt'])"
   ]
  },
  {
   "cell_type": "code",
   "execution_count": null,
   "id": "b1c779e1",
   "metadata": {},
   "outputs": [],
   "source": [
    "# convert date to simple data not date time and rename for merge\n",
    "df_311['date'] = pd.to_datetime(df_311['open_dt']).dt.normalize()"
   ]
  },
  {
   "cell_type": "code",
   "execution_count": null,
   "id": "f9ad8e24",
   "metadata": {},
   "outputs": [],
   "source": [
    "# Trim the date to match the first observed date for the Boston crime dataset and the last observed for the rainfall data\n",
    "df_311 = df_311[(df_311['date'] >= \"2015-06-15\") & (df_311['date'] <= \"2022-11-13\")]"
   ]
  },
  {
   "cell_type": "code",
   "execution_count": null,
   "id": "9d86d669",
   "metadata": {},
   "outputs": [],
   "source": [
    "print('FS :', df_311['date'].min())\n",
    "print('LS :', df_311['date'].max())"
   ]
  },
  {
   "cell_type": "markdown",
   "id": "051289ed",
   "metadata": {},
   "source": [
    "## 3) Read in rainfall data from NOAA"
   ]
  },
  {
   "cell_type": "code",
   "execution_count": null,
   "id": "8a9d8158",
   "metadata": {},
   "outputs": [],
   "source": [
    "rf_url = 'https://raw.githubusercontent.com/georgetown-analytics/boston-311/main/01%20data/rainfall_2015_present.csv'\n",
    "rf = pd.read_csv(rf_url,  index_col=0).reset_index()\n",
    "rf.head()"
   ]
  },
  {
   "cell_type": "code",
   "execution_count": null,
   "id": "3268f531",
   "metadata": {},
   "outputs": [],
   "source": [
    "rf['date'] = pd.to_datetime(rf['date'])"
   ]
  },
  {
   "cell_type": "code",
   "execution_count": null,
   "id": "1a094710",
   "metadata": {},
   "outputs": [],
   "source": [
    "print('Min dt:', rf['date'].min())\n",
    "print('Max dt:', rf['date'].max())"
   ]
  },
  {
   "cell_type": "markdown",
   "id": "1ad1efb0",
   "metadata": {},
   "source": [
    "## 4) Merge Boston 311 and rainfall data"
   ]
  },
  {
   "cell_type": "code",
   "execution_count": null,
   "id": "ef3f26bf",
   "metadata": {},
   "outputs": [],
   "source": [
    "df_311_rf = pd.merge(df_311, rf, how = 'left', on='date')\n",
    "print('Number of Rows: ', df_311_rf.shape[0])\n",
    "print('Number of Columns: ', df_311_rf.shape[1])"
   ]
  },
  {
   "cell_type": "code",
   "execution_count": null,
   "id": "ffd0816e",
   "metadata": {},
   "outputs": [],
   "source": [
    "df_311_rf.head(1)"
   ]
  },
  {
   "cell_type": "markdown",
   "id": "c3a71cdf",
   "metadata": {},
   "source": [
    "## 5) Read in Boston Census 2020 Block Groups GeoJSON Data from Analyze Boston"
   ]
  },
  {
   "cell_type": "code",
   "execution_count": null,
   "id": "3e8e1e2f",
   "metadata": {},
   "outputs": [],
   "source": [
    "bn_url = \"https://data.boston.gov/dataset/c478b600-3e3e-46fd-9f57-da89459e9928/resource/98201cf0-8aa9-4751-a34d-4d45191a3456/download/census2020_blockgroups.geojson\"\n",
    "bcb = gpd.read_file(bn_url)\n",
    "bcb.head(1)"
   ]
  },
  {
   "cell_type": "code",
   "execution_count": null,
   "id": "d8436f94",
   "metadata": {},
   "outputs": [],
   "source": [
    "bcb = bcb.to_crs(\"EPSG:4326\")"
   ]
  },
  {
   "cell_type": "code",
   "execution_count": null,
   "id": "e4ab0439",
   "metadata": {},
   "outputs": [],
   "source": [
    "bcb.plot();"
   ]
  },
  {
   "cell_type": "markdown",
   "id": "08e998f0",
   "metadata": {},
   "source": [
    "## 6) Read in Boston Census Block Group Data from Analyze Boston"
   ]
  },
  {
   "cell_type": "code",
   "execution_count": null,
   "id": "fe8ea12d",
   "metadata": {},
   "outputs": [],
   "source": [
    "bc = 'https://data.boston.gov/dataset/7846ff3b-b738-47a3-a57e-19de2c753220/resource/72254c2d-43df-4644-96d2-a84b8c6f97c7/download/census-block-group-data.csv'\n",
    "# This step drops the header to index 1 and deletes the 0th element of the index\n",
    "df_bc = pd.read_csv(bc)\n",
    "df_bc.columns = df_bc.loc[0]\n",
    "df_bc = df_bc.drop(0).reset_index()\n",
    "del df_bc['index']"
   ]
  },
  {
   "cell_type": "code",
   "execution_count": null,
   "id": "63d4e4f1",
   "metadata": {},
   "outputs": [],
   "source": [
    "# Parses out the GEOID from the the Geographic Record Id\n",
    "df_bc['GRI'] = df_bc['Geographic Record Identifier'].str[-12:]"
   ]
  },
  {
   "cell_type": "markdown",
   "id": "9637b85d",
   "metadata": {},
   "source": [
    "## 7) Merge census data together"
   ]
  },
  {
   "cell_type": "code",
   "execution_count": null,
   "id": "601d7e3d",
   "metadata": {},
   "outputs": [],
   "source": [
    "df_cm = pd.merge(left=df_bc,right=bcb,how='left',left_on='GRI',right_on='GEOID20')\n",
    "print('Number of Rows: ', df_cm.shape[0])\n",
    "print('Number of Columns: ', df_cm.shape[1])"
   ]
  },
  {
   "cell_type": "code",
   "execution_count": null,
   "id": "49a42c6b",
   "metadata": {},
   "outputs": [],
   "source": [
    "df_cm.head(1)"
   ]
  },
  {
   "cell_type": "markdown",
   "id": "63769828",
   "metadata": {},
   "source": [
    "## 8) Read in crime data from Analyze Boston and process UCR part one and two aggregates and total count"
   ]
  },
  {
   "cell_type": "code",
   "execution_count": null,
   "id": "bf2f7984",
   "metadata": {},
   "outputs": [],
   "source": [
    "crime_urls = ['https://data.boston.gov/dataset/6220d948-eae2-4e4b-8723-2dc8e67722a3/resource/792031bf-b9bb-467c-b118-fe795befdf00/download/crime-incident-reports-2015.csv',\n",
    "              'https://data.boston.gov/dataset/6220d948-eae2-4e4b-8723-2dc8e67722a3/resource/b6c4e2c3-7b1e-4f4a-b019-bef8c6a0e882/download/crime-incident-reports-2016.csv',\n",
    "              'https://data.boston.gov/dataset/6220d948-eae2-4e4b-8723-2dc8e67722a3/resource/64ad0053-842c-459b-9833-ff53d568f2e3/download/crime-incident-reports-2017.csv',\n",
    "              'https://data.boston.gov/dataset/6220d948-eae2-4e4b-8723-2dc8e67722a3/resource/e86f8e38-a23c-4c1a-8455-c8f94210a8f1/download/crime-incident-reports-2018.csv',\n",
    "              'https://data.boston.gov/dataset/6220d948-eae2-4e4b-8723-2dc8e67722a3/resource/34e0ae6b-8c94-4998-ae9e-1b51551fe9ba/download/tmp9mkqyv6b.csv',\n",
    "              'https://data.boston.gov/dataset/6220d948-eae2-4e4b-8723-2dc8e67722a3/resource/be047094-85fe-4104-a480-4fa3d03f9623/download/script_113631134_20210423193017_combine.csv',\n",
    "              'https://data.boston.gov/dataset/6220d948-eae2-4e4b-8723-2dc8e67722a3/resource/f4495ee9-c42c-4019-82c1-d067f07e45d2/download/tmp7_f32p54.csv',\n",
    "              'https://data.boston.gov/dataset/6220d948-eae2-4e4b-8723-2dc8e67722a3/resource/313e56df-6d77-49d2-9c49-ee411f10cf58/download/tmpdg9fc0p7.csv']"
   ]
  },
  {
   "cell_type": "code",
   "execution_count": null,
   "id": "320d9594",
   "metadata": {},
   "outputs": [],
   "source": [
    "# import each csv\n",
    "crime_dfs = [pd.read_csv(url) for url in crime_urls]"
   ]
  },
  {
   "cell_type": "code",
   "execution_count": null,
   "id": "5662da28",
   "metadata": {},
   "outputs": [],
   "source": [
    "# combine into a single data frame\n",
    "df_crime = pd.concat(crime_dfs, ignore_index=True)"
   ]
  },
  {
   "cell_type": "code",
   "execution_count": null,
   "id": "b409ab74",
   "metadata": {},
   "outputs": [],
   "source": [
    "df_crime = df_crime[(df_crime['UCR_PART'] == 'Part One') | (df_crime['UCR_PART'] == 'Part Two')]"
   ]
  },
  {
   "cell_type": "code",
   "execution_count": null,
   "id": "79fcd3f3",
   "metadata": {},
   "outputs": [],
   "source": [
    "df_crime['UCR_PART'].value_counts()"
   ]
  },
  {
   "cell_type": "code",
   "execution_count": null,
   "id": "7c7725b5",
   "metadata": {},
   "outputs": [],
   "source": [
    "df_crime['ucr_one'] = df_crime['UCR_PART'].apply(lambda x: '1' if x == 'Part One' else '')"
   ]
  },
  {
   "cell_type": "code",
   "execution_count": null,
   "id": "b64f1ebd",
   "metadata": {},
   "outputs": [],
   "source": [
    "df_crime['ucr_two'] = df_crime['UCR_PART'].apply(lambda x: '2' if x == 'Part Two' else '')"
   ]
  },
  {
   "cell_type": "code",
   "execution_count": null,
   "id": "6e045a91",
   "metadata": {},
   "outputs": [],
   "source": [
    "df_crime['ucr_one'] = pd.to_numeric(df_crime['ucr_one'])\n",
    "df_crime['ucr_two'] = pd.to_numeric(df_crime['ucr_two'])"
   ]
  },
  {
   "cell_type": "code",
   "execution_count": null,
   "id": "25a68957",
   "metadata": {},
   "outputs": [],
   "source": [
    "# Make sure the coordinate reference system (crs) is set to the same value as shown in bcb.crs. In this case CRS: EPSG:4326\n",
    "cgdf = gpd.GeoDataFrame(df_crime, geometry=gpd.points_from_xy(df_crime['Long'], df_crime['Lat']), crs='EPSG:4326')"
   ]
  },
  {
   "cell_type": "code",
   "execution_count": null,
   "id": "339226df",
   "metadata": {},
   "outputs": [],
   "source": [
    "cgdf.crs"
   ]
  },
  {
   "cell_type": "code",
   "execution_count": null,
   "id": "a93e7622",
   "metadata": {},
   "outputs": [],
   "source": [
    "# Clip to City of Boston political boundary to strip away bad coordinates to avoid error: Coordinates must not have minimums more than maximums\n",
    "cgdf_j = gpd.clip(cgdf, bcb)\n",
    "# Shape of the geodataframe within Boston city limits \n",
    "print('Number of Rows: ', cgdf_j.shape[0])\n",
    "print('Number of Columns: ', cgdf_j.shape[1])"
   ]
  },
  {
   "cell_type": "code",
   "execution_count": null,
   "id": "a52e3f41",
   "metadata": {},
   "outputs": [],
   "source": [
    "cgdf_j = gpd.sjoin(cgdf_j, bcb, how='left')\n",
    "# Shape of the geodataframe within Boston Census Block Groups\n",
    "print('Number of Rows: ', cgdf_j.shape[0])\n",
    "print('Number of Columns: ', cgdf_j.shape[1])"
   ]
  },
  {
   "cell_type": "code",
   "execution_count": null,
   "id": "401f2365",
   "metadata": {},
   "outputs": [],
   "source": [
    "cgdf_j.head(1)"
   ]
  },
  {
   "cell_type": "code",
   "execution_count": null,
   "id": "5d813126",
   "metadata": {},
   "outputs": [],
   "source": [
    "c_cj = cgdf_j.groupby(['GEOID20']).agg({'ucr_one':'sum','ucr_two':'sum'}).reset_index()"
   ]
  },
  {
   "cell_type": "code",
   "execution_count": null,
   "id": "930d85a0",
   "metadata": {},
   "outputs": [],
   "source": [
    "c_cj['total_ucr'] = c_cj['ucr_one'] + c_cj['ucr_two']"
   ]
  },
  {
   "cell_type": "code",
   "execution_count": null,
   "id": "f97fad33",
   "metadata": {},
   "outputs": [],
   "source": [
    "c_cj.head()"
   ]
  },
  {
   "cell_type": "markdown",
   "id": "7a13a1fd",
   "metadata": {},
   "source": [
    "## 9) Merge UCR Crime Count Data to Boston Census Block Group Data"
   ]
  },
  {
   "cell_type": "code",
   "execution_count": null,
   "id": "21bb498d",
   "metadata": {},
   "outputs": [],
   "source": [
    "df_ccm = pd.merge(left=df_cm,right=c_cj,how='left',left_on='GEOID20',right_on='GEOID20')\n",
    "print('Number of Rows: ', df_ccm.shape[0])\n",
    "print('Number of Columns: ', df_ccm.shape[1])"
   ]
  },
  {
   "cell_type": "code",
   "execution_count": null,
   "id": "4ebed349",
   "metadata": {},
   "outputs": [],
   "source": [
    "df_ccm.head(1)"
   ]
  },
  {
   "cell_type": "code",
   "execution_count": null,
   "id": "fa25fcce",
   "metadata": {},
   "outputs": [],
   "source": [
    "# Convert df_ccm from dataframe to geodataframe\n",
    "df_ccm = gpd.GeoDataFrame(df_ccm, geometry='geometry')"
   ]
  },
  {
   "cell_type": "code",
   "execution_count": null,
   "id": "e254b3c0",
   "metadata": {},
   "outputs": [],
   "source": [
    "# Verify the crs is EPSG: 4326\n",
    "df_ccm.crs"
   ]
  },
  {
   "cell_type": "markdown",
   "id": "b81052de",
   "metadata": {},
   "source": [
    "## 10) Merge all datasets together"
   ]
  },
  {
   "cell_type": "code",
   "execution_count": null,
   "id": "3987387e",
   "metadata": {},
   "outputs": [],
   "source": [
    "# Make sure the coordinate reference system (crs) is set to the same value as shown in df_ccm.crs. In this case CRS: EPSG:4326\n",
    "df_311_rf = gpd.GeoDataFrame(df_311_rf, geometry=gpd.points_from_xy(df_311_rf['longitude'], df_311_rf['latitude']), crs='EPSG:4326')"
   ]
  },
  {
   "cell_type": "code",
   "execution_count": null,
   "id": "d6d3abba",
   "metadata": {},
   "outputs": [],
   "source": [
    "master = gpd.sjoin(df_311_rf, df_ccm, how='left')\n",
    "# Shape of the master dataframe\n",
    "print('Number of Rows: ', master.shape[0])\n",
    "print('Number of Columns: ', master.shape[1])"
   ]
  },
  {
   "cell_type": "code",
   "execution_count": null,
   "id": "f08935e2",
   "metadata": {},
   "outputs": [],
   "source": [
    "master.head(1)"
   ]
  },
  {
   "cell_type": "code",
   "execution_count": null,
   "id": "160a0d89",
   "metadata": {},
   "outputs": [],
   "source": [
    "now = datetime.now()\n",
    "duration = now - then\n",
    "print(\"Holy cow! I hope you got coffee during the runtime:\",duration)"
   ]
  }
 ],
 "metadata": {
  "kernelspec": {
   "display_name": "Python 3 (ipykernel)",
   "language": "python",
   "name": "python3"
  },
  "language_info": {
   "codemirror_mode": {
    "name": "ipython",
    "version": 3
   },
   "file_extension": ".py",
   "mimetype": "text/x-python",
   "name": "python",
   "nbconvert_exporter": "python",
   "pygments_lexer": "ipython3",
   "version": "3.8.13"
  }
 },
 "nbformat": 4,
 "nbformat_minor": 5
}
