{
 "cells": [
  {
   "cell_type": "markdown",
   "metadata": {},
   "source": [
    "**Fire Incident Reporting**"
   ]
  },
  {
   "cell_type": "markdown",
   "metadata": {},
   "source": [
    "**I will import various libraries as I might need to use them later.**"
   ]
  },
  {
   "cell_type": "code",
   "execution_count": 5,
   "metadata": {},
   "outputs": [],
   "source": [
    "import pandas as pd\n",
    "import matplotlib.pyplot as plt\n",
    "from datetime import date\n",
    "import seaborn as sns\n",
    "import numpy as np\n",
    "import glob\n",
    "import os"
   ]
  },
  {
   "cell_type": "markdown",
   "metadata": {},
   "source": [
    "**I will then add my CSV file to the data frame.**"
   ]
  },
  {
   "cell_type": "code",
   "execution_count": 2,
   "metadata": {},
   "outputs": [
    {
     "name": "stderr",
     "output_type": "stream",
     "text": [
      "/home/hihipy/coding-workspace/boston-crime/02 code/import-fire-incident-reporting.py:15: DtypeWarning: Columns (8) have mixed types. Specify dtype option on import or set low_memory=False.\n",
      "  dfs = [pd.read_csv(url) for url in urls]\n",
      "/home/hihipy/coding-workspace/boston-crime/02 code/import-fire-incident-reporting.py:15: DtypeWarning: Columns (11) have mixed types. Specify dtype option on import or set low_memory=False.\n",
      "  dfs = [pd.read_csv(url) for url in urls]\n",
      "/home/hihipy/coding-workspace/boston-crime/02 code/import-fire-incident-reporting.py:15: DtypeWarning: Columns (8,11,22) have mixed types. Specify dtype option on import or set low_memory=False.\n",
      "  dfs = [pd.read_csv(url) for url in urls]\n"
     ]
    },
    {
     "name": "stdout",
     "output_type": "stream",
     "text": [
      "\n",
      "IPython CPU timings (estimated):\n",
      "  User   :       1.67 s.\n",
      "  System :       0.60 s.\n",
      "Wall time:      24.85 s.\n"
     ]
    }
   ],
   "source": [
    "%run -t import-fire-incident-reporting.py\n",
    "\n",
    "###I will also include local csv script\n",
    "#df = pd.read_csv(r\"/home/hihipy/coding-workspace/csvs/fire-combined.csv\")"
   ]
  },
  {
   "cell_type": "markdown",
   "metadata": {},
   "source": [
    "**Now let us do some analysis!**"
   ]
  },
  {
   "cell_type": "code",
   "execution_count": 9,
   "metadata": {},
   "outputs": [
    {
     "name": "stdout",
     "output_type": "stream",
     "text": [
      "<class 'pandas.core.frame.DataFrame'>\n",
      "RangeIndex: 491602 entries, 0 to 491601\n",
      "Data columns (total 48 columns):\n",
      " #   Column                   Non-Null Count   Dtype  \n",
      "---  ------                   --------------   -----  \n",
      " 0   Incident Number          78448 non-null   object \n",
      " 1   Exposure Number          78448 non-null   float64\n",
      " 2   Alarm Date               78448 non-null   object \n",
      " 3   Alarm Time               78448 non-null   object \n",
      " 4   Incident Type            78448 non-null   object \n",
      " 5   Incident Description     78447 non-null   object \n",
      " 6   Estimated Property Loss  78448 non-null   float64\n",
      " 7   Estimated Content Loss   78448 non-null   float64\n",
      " 8   District                 78448 non-null   object \n",
      " 9   City Section             78448 non-null   object \n",
      " 10  Neighborhood             0 non-null       float64\n",
      " 11  Zip                      78448 non-null   object \n",
      " 12  Property Use             78448 non-null   object \n",
      " 13  Property Description     75769 non-null   object \n",
      " 14  Street Number            78448 non-null   object \n",
      " 15  Street Prefix            78448 non-null   object \n",
      " 16  Street Name              78448 non-null   object \n",
      " 17  Street Type              78448 non-null   object \n",
      " 18  Street Suffix            78448 non-null   object \n",
      " 19  Address 2                78448 non-null   object \n",
      " 20  xStreet Prefix           78448 non-null   object \n",
      " 21  xStreet Name             78448 non-null   object \n",
      " 22  xStreet Type             78448 non-null   object \n",
      " 23  xStreet Suffix           78448 non-null   object \n",
      " 24  incident_number          413154 non-null  object \n",
      " 25  exposure_number          413154 non-null  float64\n",
      " 26  alarm_date               413154 non-null  object \n",
      " 27  alarm_time               413154 non-null  object \n",
      " 28  incident_type            413154 non-null  object \n",
      " 29  incident_description     413154 non-null  object \n",
      " 30  estimated_property_loss  413154 non-null  float64\n",
      " 31  estimated_content_loss   413154 non-null  float64\n",
      " 32  district                 413154 non-null  object \n",
      " 33  city_section             388505 non-null  object \n",
      " 34  neighborhood             388505 non-null  object \n",
      " 35  zip                      413154 non-null  object \n",
      " 36  property_use             390833 non-null  object \n",
      " 37  property_description     390833 non-null  object \n",
      " 38  street_number            365395 non-null  object \n",
      " 39  street_prefix            17717 non-null   object \n",
      " 40  street_name              413129 non-null  object \n",
      " 41  street_suffix            1174 non-null    object \n",
      " 42  street_type              402220 non-null  object \n",
      " 43  address_2                135080 non-null  object \n",
      " 44  xstreet_prefix           1937 non-null    object \n",
      " 45  xstreet_name             42318 non-null   object \n",
      " 46  xstreet_suffix           39 non-null      object \n",
      " 47  xstreet_type             41114 non-null   object \n",
      "dtypes: float64(7), object(41)\n",
      "memory usage: 180.0+ MB\n"
     ]
    }
   ],
   "source": [
    "df_fireinci.info()"
   ]
  }
 ],
 "metadata": {
  "kernelspec": {
   "display_name": "Python 3.9.12 ('base')",
   "language": "python",
   "name": "python3"
  },
  "language_info": {
   "codemirror_mode": {
    "name": "ipython",
    "version": 3
   },
   "file_extension": ".py",
   "mimetype": "text/x-python",
   "name": "python",
   "nbconvert_exporter": "python",
   "pygments_lexer": "ipython3",
   "version": "3.9.12"
  },
  "orig_nbformat": 4,
  "vscode": {
   "interpreter": {
    "hash": "1fb96ad35905788f7fa6384c97c9e8a1128f96e26ded873eeb58b91860ec85cc"
   }
  }
 },
 "nbformat": 4,
 "nbformat_minor": 2
}
