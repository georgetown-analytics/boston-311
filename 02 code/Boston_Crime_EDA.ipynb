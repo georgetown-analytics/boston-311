{
 "cells": [
  {
   "cell_type": "markdown",
   "id": "1cd192ac",
   "metadata": {},
   "source": [
    "## Import Libraries"
   ]
  },
  {
   "cell_type": "code",
   "execution_count": null,
   "id": "fa31818b",
   "metadata": {},
   "outputs": [],
   "source": [
    "import pandas as pd\n",
    "import numpy as np\n",
    "import datetime\n",
    "import geopandas as gpd\n",
    "import matplotlib.pyplot as plt\n",
    "from shapely.geometry import Point\n",
    "import seaborn as sns\n",
    "import plotly.express as px\n",
    "import plotly.graph_objects as go\n",
    "import folium\n",
    "from folium import Circle, Marker, Map\n",
    "from folium.plugins import MarkerCluster"
   ]
  },
  {
   "cell_type": "markdown",
   "id": "f66dff59",
   "metadata": {},
   "source": [
    "## Read in Combined Boston Crime Data (2015-2022)"
   ]
  },
  {
   "cell_type": "code",
   "execution_count": null,
   "id": "cd4df2a6",
   "metadata": {},
   "outputs": [],
   "source": [
    "df = pd.read_csv('crime_incidents_boston_2015_2022.csv', low_memory=False)\n",
    "pd.set_option('display.max_columns', None)"
   ]
  },
  {
   "cell_type": "markdown",
   "id": "1214096c",
   "metadata": {},
   "source": [
    "## Boston Crime Exploratory Data Analysis (EDA)"
   ]
  },
  {
   "cell_type": "code",
   "execution_count": null,
   "id": "420f3614",
   "metadata": {},
   "outputs": [],
   "source": [
    "# Shape of the crime dataframe\n",
    "print('Number of Rows: ', df.shape[0])\n",
    "print('Number of Columns: ', df.shape[1])"
   ]
  },
  {
   "cell_type": "code",
   "execution_count": null,
   "id": "33fdf09d",
   "metadata": {},
   "outputs": [],
   "source": [
    "print(\"Shape of the duplicated values in the DataFrame: \",df[df.duplicated()].shape[0])\n",
    "# This is something our capstone group will need to consider, especially because we do not know \n",
    "# if the duplicates are derived from having multiple victims associated with one incident report"
   ]
  },
  {
   "cell_type": "code",
   "execution_count": null,
   "id": "74b20207",
   "metadata": {},
   "outputs": [],
   "source": [
    "# Get a feel for the data to include the column headers and row values\n",
    "df.head(1)"
   ]
  },
  {
   "cell_type": "code",
   "execution_count": null,
   "id": "b65cff06",
   "metadata": {},
   "outputs": [],
   "source": [
    "# Summary of fields containing null values. Notice the amount of Lat/Long records containing null values. \n",
    "df.isnull().sum()"
   ]
  },
  {
   "cell_type": "code",
   "execution_count": null,
   "id": "1028d297",
   "metadata": {},
   "outputs": [],
   "source": [
    "df.info()"
   ]
  },
  {
   "cell_type": "code",
   "execution_count": null,
   "id": "eab2dea3",
   "metadata": {},
   "outputs": [],
   "source": [
    "# Based on numeric fields this doesn't inform us too much considering most of the fields are for offense code, year, month, etc.\n",
    "# However, this gives us a glimpse of the min and max value for Lat/Long fields. Notice that they fall outside the City of Boston\n",
    "df.describe()"
   ]
  },
  {
   "cell_type": "code",
   "execution_count": null,
   "id": "c94977ff",
   "metadata": {},
   "outputs": [],
   "source": [
    "# Identify the first and last observed crime incident by date/time. Notice the first obsereved was mid-2015 so we don't have a complete years worth of data for 2015.\n",
    "print(\"First Observed Date: \", df['OCCURRED_ON_DATE'].min())\n",
    "print(\"Last Observed Date: \", df['OCCURRED_ON_DATE'].max())"
   ]
  },
  {
   "cell_type": "code",
   "execution_count": null,
   "id": "312a1476",
   "metadata": {},
   "outputs": [],
   "source": [
    "# Plot crimes by month\n",
    "sns.countplot(data = df, x='MONTH', color='blue');"
   ]
  },
  {
   "cell_type": "code",
   "execution_count": null,
   "id": "d912cfd2",
   "metadata": {},
   "outputs": [],
   "source": [
    "# Plot crime by hour \n",
    "sns.countplot(data = df, x='HOUR', color='red');"
   ]
  },
  {
   "cell_type": "code",
   "execution_count": null,
   "id": "2891d510",
   "metadata": {},
   "outputs": [],
   "source": [
    "sns.countplot(data = df, x='UCR_PART', color='orange');"
   ]
  },
  {
   "cell_type": "code",
   "execution_count": null,
   "id": "e01d6a08",
   "metadata": {},
   "outputs": [],
   "source": [
    "df.groupby(['DAY_OF_WEEK'])['INCIDENT_NUMBER'].count().plot( kind= 'bar');"
   ]
  },
  {
   "cell_type": "code",
   "execution_count": null,
   "id": "6ca65196",
   "metadata": {},
   "outputs": [],
   "source": [
    "# Heatmap plot for hour and day of the week\n",
    "x = df['DAY_OF_WEEK']\n",
    "y = df['HOUR']\n",
    "fig = go.Figure(go.Histogram2d(x=x,y=y))\n",
    "fig.update_layout(title='Heatmap plot on number of offenses by hour and day of the week', xaxis_tickfont_size=10,\n",
    "    yaxis=dict(title='Hour', titlefont_size=15, tickfont_size=12),\n",
    "    xaxis=dict(title='Day of the Week', titlefont_size=15, tickfont_size=12))\n",
    "fig.show()"
   ]
  },
  {
   "cell_type": "code",
   "execution_count": null,
   "id": "deca3d27",
   "metadata": {},
   "outputs": [],
   "source": [
    "df_year = df.groupby(['YEAR'])['INCIDENT_NUMBER'].agg('count').reset_index().rename(columns={'INCIDENT_NUMBER':'Incident_Count'})"
   ]
  },
  {
   "cell_type": "code",
   "execution_count": null,
   "id": "3f2c26d5",
   "metadata": {},
   "outputs": [],
   "source": [
    "df_year['Incident_Count_Diff'] = (df_year['Incident_Count'].max() - df_year['Incident_Count'])\n",
    "df_year['Percent_Count'] = (df_year['Incident_Count'] / df_year['Incident_Count'].max()) * 100\n",
    "df_year['Crimes_Per_Day'] = (df_year['Incident_Count'] / 365)\n",
    "df_year.head(8)"
   ]
  },
  {
   "cell_type": "code",
   "execution_count": null,
   "id": "3ada6866",
   "metadata": {
    "scrolled": false
   },
   "outputs": [],
   "source": [
    "sns.catplot(x='YEAR',\n",
    "           kind='count',\n",
    "            height=9.00, \n",
    "            aspect=3.00,\n",
    "            color='blue',\n",
    "           data=df,\n",
    "           )\n",
    "plt.xticks(size=20)\n",
    "plt.yticks(size=20)\n",
    "plt.xlabel('Year', fontsize=30)\n",
    "plt.ylabel('Count', fontsize=30)\n",
    "plt.title(\"Number of Crimes per Year in the City of Boston\", size='35');"
   ]
  },
  {
   "cell_type": "code",
   "execution_count": null,
   "id": "c734822f",
   "metadata": {
    "scrolled": true
   },
   "outputs": [],
   "source": [
    "df_street = df.groupby(['STREET'])['INCIDENT_NUMBER'].agg('count').reset_index()\n",
    "df_street = df_street.rename(columns={'INCIDENT_NUMBER':'Incident_Count'}).sort_values(by='Incident_Count',ascending=False).reset_index()\n",
    "del df_street['index']\n",
    "df_street.head(10)"
   ]
  },
  {
   "cell_type": "code",
   "execution_count": null,
   "id": "d83824a9",
   "metadata": {},
   "outputs": [],
   "source": [
    "# Obtain just the top ten streets with the highest crime rate\n",
    "df_street = df_street.head(10)"
   ]
  },
  {
   "cell_type": "code",
   "execution_count": null,
   "id": "c4166de5",
   "metadata": {},
   "outputs": [],
   "source": [
    "# Percentage distribution of Crimes/Offenses on Streets in the visualization of Pie graph\n",
    "fig = px.pie(df_street, values=df_street['Incident_Count'], \n",
    "             title='Percent distrubution of offenses by the top 10 highest crime streets', \n",
    "             names=df_street['STREET'])\n",
    "fig.show()"
   ]
  },
  {
   "cell_type": "code",
   "execution_count": null,
   "id": "54b5e1c6",
   "metadata": {
    "scrolled": true
   },
   "outputs": [],
   "source": [
    "# Notice a small amount of records fall outside the City of Boston since the district was tagged as \"External\"\n",
    "sns.catplot(x='DISTRICT',\n",
    "           kind='count',\n",
    "            height=8.00, \n",
    "            aspect=2.75,\n",
    "            color='blue',\n",
    "           data=df,\n",
    "           )\n",
    "plt.xticks(size=20)\n",
    "plt.yticks(size=20)\n",
    "plt.xlabel('District', fontsize=30)\n",
    "plt.ylabel('Count', fontsize=30)\n",
    "plt.title(\"Number of Crimes per District in the City of Boston\", size='35');"
   ]
  },
  {
   "cell_type": "code",
   "execution_count": null,
   "id": "29216a7e",
   "metadata": {},
   "outputs": [],
   "source": [
    "ax = df.hist(column='YEAR', by='DISTRICT', bins=25, figsize=(16,18), grid=False)\n",
    "for x in ax.flatten():\n",
    "    x.set_xlabel(\"Year\")\n",
    "    x.set_ylabel(\"Number of Offenses\")"
   ]
  },
  {
   "cell_type": "code",
   "execution_count": null,
   "id": "04654c06",
   "metadata": {},
   "outputs": [],
   "source": [
    "ax = df.hist(column='UCR_PART', by='DISTRICT', bins=25, figsize=(16,18), grid=False)\n",
    "for x in ax.flatten():\n",
    "    x.set_xlabel(\"Uniform Crime Report Type\")\n",
    "    x.set_ylabel(\"Uniform Crime Report Count\")"
   ]
  },
  {
   "cell_type": "markdown",
   "id": "c73480b0",
   "metadata": {},
   "source": [
    "## Read in City of Boston Boundary Data to clip the crime data within the city limits"
   ]
  },
  {
   "cell_type": "code",
   "execution_count": null,
   "id": "7b1dd5f4",
   "metadata": {},
   "outputs": [],
   "source": [
    "cob_url = 'https://bostonopendata-boston.opendata.arcgis.com/datasets/boston::city-of-boston-boundary.geojson?outSR=%7B%22latestWkid%22%3A2249%2C%22wkid%22%3A102686%7D.geojson'\n",
    "cob = gpd.read_file(cob_url)"
   ]
  },
  {
   "cell_type": "code",
   "execution_count": null,
   "id": "b0f5fd07",
   "metadata": {},
   "outputs": [],
   "source": [
    "cob.crs"
   ]
  },
  {
   "cell_type": "code",
   "execution_count": null,
   "id": "c4309f84",
   "metadata": {},
   "outputs": [],
   "source": [
    "cob.plot();"
   ]
  },
  {
   "cell_type": "code",
   "execution_count": null,
   "id": "7a58b5c1",
   "metadata": {},
   "outputs": [],
   "source": [
    "# Make sure the coordinate reference system (crs) is set to the same value as shown in cob.crs. In this case CRS: EPSG:4326\n",
    "gdf = gpd.GeoDataFrame(df, geometry=gpd.points_from_xy(df['Long'], df['Lat']), crs='EPSG:4326')"
   ]
  },
  {
   "cell_type": "code",
   "execution_count": null,
   "id": "8ef55d80",
   "metadata": {},
   "outputs": [],
   "source": [
    "gdf_j = gpd.clip(gdf, cob)\n",
    "# Shape of the geodataframe within Boston city limits\n",
    "print('Number of Rows: ', gdf_j.shape[0])\n",
    "print('Number of Columns: ', gdf_j.shape[1])"
   ]
  },
  {
   "cell_type": "code",
   "execution_count": null,
   "id": "04677ee5",
   "metadata": {},
   "outputs": [],
   "source": [
    "gdf_j['SHOOTING'].value_counts()"
   ]
  },
  {
   "cell_type": "code",
   "execution_count": null,
   "id": "129d08ec",
   "metadata": {},
   "outputs": [],
   "source": [
    "gdf_j.dtypes"
   ]
  },
  {
   "cell_type": "code",
   "execution_count": null,
   "id": "ad338e2e",
   "metadata": {},
   "outputs": [],
   "source": [
    "# Create a seperate geodataframe with only those records that involved a shooting incident\n",
    "oh_shoot = gdf_j[(gdf_j['SHOOTING'] == '1') | (gdf_j['SHOOTING'] == 'Y')]\n",
    "# Shape of the boston shooting incidents geodataframe \n",
    "print('Number of Rows: ', gdf_j.shape[0])\n",
    "print('Number of Columns: ', gdf_j.shape[1])"
   ]
  },
  {
   "cell_type": "code",
   "execution_count": null,
   "id": "975abd87",
   "metadata": {},
   "outputs": [],
   "source": [
    "plt.figure(num=None, figsize=(10, 8))\n",
    "plt.scatter(\"Long\", \"Lat\", data = oh_shoot, c = 'y',alpha = 0.4, edgecolor = 'black', s=2)\n",
    "plt.grid()\n",
    "plt.xlabel('Longitude')\n",
    "plt.ylabel('Latitude')\n",
    "plt.title('City of Boston Shooting Locations')\n",
    "plt.tight_layout()\n",
    "plt.axis('tight')\n",
    "\n",
    "plt.show()"
   ]
  },
  {
   "cell_type": "code",
   "execution_count": null,
   "id": "c988aae3",
   "metadata": {},
   "outputs": [],
   "source": [
    "# Mapping the City of Boston shootings with popup markers to display several data elements\n",
    "cmap = folium.Map(location=[42.361145, -71.057083],zoom_start=11)\n",
    "\n",
    "def generate_popup(a,b,c,d,e):\n",
    "    return f'''<strong>Incident Number:</strong> {a}<br><strong>Crime Description:</strong> {b}<br><strong>Date:</strong> {c}<br><strong>Time:</strong> {d}<br><strong>Address:</strong> {e}'''\n",
    "\n",
    "cluster = MarkerCluster().add_to(cmap)\n",
    "\n",
    "for _, row in oh_shoot.iterrows():\n",
    "    folium.Marker(location=[row['Lat'],row['Long']], \n",
    "                        popup=generate_popup(row['INCIDENT_NUMBER'], \n",
    "                                             row['OFFENSE_DESCRIPTION'], \n",
    "                                             row['OCCURRED_ON_DATE'],\n",
    "                                             row['DISTRICT'],\n",
    "                                             row['STREET'])).add_to(cluster)\n",
    "    \n",
    "# Create a layer control object and add it to our map instance\n",
    "folium.LayerControl().add_to(cluster)\n",
    "\n",
    "#Show map\n",
    "cmap"
   ]
  },
  {
   "cell_type": "code",
   "execution_count": null,
   "id": "6edee196",
   "metadata": {},
   "outputs": [],
   "source": []
  }
 ],
 "metadata": {
  "kernelspec": {
   "display_name": "Python 3 (ipykernel)",
   "language": "python",
   "name": "python3"
  },
  "language_info": {
   "codemirror_mode": {
    "name": "ipython",
    "version": 3
   },
   "file_extension": ".py",
   "mimetype": "text/x-python",
   "name": "python",
   "nbconvert_exporter": "python",
   "pygments_lexer": "ipython3",
   "version": "3.8.13"
  }
 },
 "nbformat": 4,
 "nbformat_minor": 5
}
