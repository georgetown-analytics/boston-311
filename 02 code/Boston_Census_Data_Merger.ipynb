{
 "cells": [
  {
   "cell_type": "markdown",
   "id": "1b089750",
   "metadata": {},
   "source": [
    "## Import Libraries"
   ]
  },
  {
   "cell_type": "code",
   "execution_count": null,
   "id": "85e0f285",
   "metadata": {},
   "outputs": [],
   "source": [
    "import pandas as pd"
   ]
  },
  {
   "cell_type": "markdown",
   "id": "b19f97c7",
   "metadata": {},
   "source": [
    "## Read in Boston Census 2020 Block Groups GeoJSON Data"
   ]
  },
  {
   "cell_type": "code",
   "execution_count": null,
   "id": "18a78b69",
   "metadata": {},
   "outputs": [],
   "source": [
    "bn_url = \"https://data.boston.gov/dataset/c478b600-3e3e-46fd-9f57-da89459e9928/resource/98201cf0-8aa9-4751-a34d-4d45191a3456/download/census2020_blockgroups.geojson\"\n",
    "bcb = gpd.read_file(bn_url)\n",
    "pd.set_option('display.max_columns',None)\n",
    "bcb.head()"
   ]
  },
  {
   "cell_type": "markdown",
   "id": "f8ab1272",
   "metadata": {},
   "source": [
    "## Read in Boston Census Block Group Data"
   ]
  },
  {
   "cell_type": "code",
   "execution_count": null,
   "id": "cb325f9a",
   "metadata": {},
   "outputs": [],
   "source": [
    "bc = 'https://data.boston.gov/dataset/7846ff3b-b738-47a3-a57e-19de2c753220/resource/72254c2d-43df-4644-96d2-a84b8c6f97c7/download/census-block-group-data.csv'\n",
    "# This step drops the header to index 1 and deletes the 0th element of the index\n",
    "df = pd.read_csv(bc)\n",
    "df.columns = df.loc[0]\n",
    "df = df.drop(0).reset_index()\n",
    "del df['index']"
   ]
  },
  {
   "cell_type": "code",
   "execution_count": null,
   "id": "241eb74b",
   "metadata": {},
   "outputs": [],
   "source": [
    "# Parses out the GEOID from the the Geographic Record Id\n",
    "df['GRI'] = df['Geographic Record Identifier'].str[-12:]"
   ]
  },
  {
   "cell_type": "markdown",
   "id": "df3fa905",
   "metadata": {},
   "source": [
    "## Merge both tables together"
   ]
  },
  {
   "cell_type": "code",
   "execution_count": null,
   "id": "2fc88fc2",
   "metadata": {},
   "outputs": [],
   "source": [
    "dfj = pd.merge(left=df,right=bcb,how='left',left_on='GRI',right_on='GEOID20')\n",
    "print('Number of Rows: ', dfj.shape[0])\n",
    "print('Number of Columns: ', dfj.shape[1])"
   ]
  },
  {
   "cell_type": "code",
   "execution_count": null,
   "id": "0e43bbce",
   "metadata": {},
   "outputs": [],
   "source": [
    "dfj.head()"
   ]
  },
  {
   "cell_type": "code",
   "execution_count": null,
   "id": "e896a2d5",
   "metadata": {},
   "outputs": [],
   "source": [
    "dfj.to_csv('merged_boston20_census_bg.csv',index=False)"
   ]
  }
 ],
 "metadata": {
  "kernelspec": {
   "display_name": "Python 3 (ipykernel)",
   "language": "python",
   "name": "python3"
  },
  "language_info": {
   "codemirror_mode": {
    "name": "ipython",
    "version": 3
   },
   "file_extension": ".py",
   "mimetype": "text/x-python",
   "name": "python",
   "nbconvert_exporter": "python",
   "pygments_lexer": "ipython3",
   "version": "3.8.13"
  }
 },
 "nbformat": 4,
 "nbformat_minor": 5
}
